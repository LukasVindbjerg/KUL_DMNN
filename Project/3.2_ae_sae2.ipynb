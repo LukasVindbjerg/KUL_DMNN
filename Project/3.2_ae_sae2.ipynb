{
  "cells": [
    {
      "cell_type": "markdown",
      "metadata": {
        "id": "G28ynkon-QY1"
      },
      "source": [
        "#DATA MINING AND NEURAL NETWORKS    \n",
        "##Assignment 3.2 - Autoencoders and Stacked Autoencoders\n",
        "\n",
        "In this file, we will implement two network architectures from scrath: (1) Autoencoders; (2) Stacked Autoencoders.\n",
        "\n",
        "We will train both networks on the MNIST dataset under reconstruction learning task. All training will be conducted on a single T4 GPU.\n"
      ]
    },
    {
      "cell_type": "code",
      "execution_count": null,
      "metadata": {
        "colab": {
          "base_uri": "https://localhost:8080/"
        },
        "id": "EZHATEBH-INR",
        "outputId": "5fca9600-d04c-464a-aae8-4b8e82cc2447"
      },
      "outputs": [
        {
          "name": "stdout",
          "output_type": "stream",
          "text": [
            "Mounted at /content/drive\n"
          ]
        }
      ],
      "source": [
        "# Please first load your google drive\n",
        "from google.colab import drive\n",
        "drive.mount('/content/drive')"
      ]
    },
    {
      "cell_type": "code",
      "execution_count": null,
      "metadata": {
        "colab": {
          "base_uri": "https://localhost:8080/"
        },
        "id": "CYPTjNQd-KRb",
        "outputId": "12943aaf-a2e4-4ffb-e645-c51afa3dcc0e"
      },
      "outputs": [
        {
          "name": "stdout",
          "output_type": "stream",
          "text": [
            "/bin/bash: line 1: cd: /content/drive/MyDrive/DMNN/DMNN2023: No such file or directory\n"
          ]
        }
      ],
      "source": [
        "# Please go to the folder with all assignment files\n",
        "# Please change the following path to your own path\n",
        "!cd /content/drive/MyDrive/DMNN/DMNN2023"
      ]
    },
    {
      "cell_type": "code",
      "execution_count": null,
      "metadata": {
        "colab": {
          "base_uri": "https://localhost:8080/"
        },
        "id": "MnZZO_oOFpJP",
        "outputId": "a0c19ae7-3160-4773-9a0b-180985f41cf1"
      },
      "outputs": [
        {
          "name": "stdout",
          "output_type": "stream",
          "text": [
            "Tue Dec 19 17:36:23 2023       \n",
            "+---------------------------------------------------------------------------------------+\n",
            "| NVIDIA-SMI 535.104.05             Driver Version: 535.104.05   CUDA Version: 12.2     |\n",
            "|-----------------------------------------+----------------------+----------------------+\n",
            "| GPU  Name                 Persistence-M | Bus-Id        Disp.A | Volatile Uncorr. ECC |\n",
            "| Fan  Temp   Perf          Pwr:Usage/Cap |         Memory-Usage | GPU-Util  Compute M. |\n",
            "|                                         |                      |               MIG M. |\n",
            "|=========================================+======================+======================|\n",
            "|   0  Tesla T4                       Off | 00000000:00:04.0 Off |                    0 |\n",
            "| N/A   57C    P0              28W /  70W |    183MiB / 15360MiB |      0%      Default |\n",
            "|                                         |                      |                  N/A |\n",
            "+-----------------------------------------+----------------------+----------------------+\n",
            "                                                                                         \n",
            "+---------------------------------------------------------------------------------------+\n",
            "| Processes:                                                                            |\n",
            "|  GPU   GI   CI        PID   Type   Process name                            GPU Memory |\n",
            "|        ID   ID                                                             Usage      |\n",
            "|=======================================================================================|\n",
            "+---------------------------------------------------------------------------------------+\n"
          ]
        }
      ],
      "source": [
        "# Please go to Edit > Notebook settings > Hardware accelerator > choose \"T4 GPU\"\n",
        "# Now check if you have loaded the GPU successfully\n",
        "!nvidia-smi"
      ]
    },
    {
      "cell_type": "markdown",
      "metadata": {
        "id": "504PW8Go_Bna"
      },
      "source": [
        "# Autoencoder\n",
        "In this section, we implement Linear Autoencoder from scratch and training it on the MNIST dataset. With this autoencoder, we pass input data through an encoder making a compressed representation of the input, and then pass this representation to the following decoder to build the reconstruction data.\n",
        "Codes will be implemeneted with ``PyTorch``.\n"
      ]
    },
    {
      "cell_type": "code",
      "execution_count": null,
      "metadata": {
        "colab": {
          "base_uri": "https://localhost:8080/"
        },
        "id": "eGwR7aL5_FSD",
        "outputId": "fd703af0-9720-42f4-f277-fffdda428ae7"
      },
      "outputs": [
        {
          "name": "stdout",
          "output_type": "stream",
          "text": [
            "Downloading http://yann.lecun.com/exdb/mnist/train-images-idx3-ubyte.gz\n",
            "Downloading http://yann.lecun.com/exdb/mnist/train-images-idx3-ubyte.gz to data/MNIST/raw/train-images-idx3-ubyte.gz\n"
          ]
        },
        {
          "name": "stderr",
          "output_type": "stream",
          "text": [
            "100%|██████████| 9912422/9912422 [00:00<00:00, 433120930.55it/s]"
          ]
        },
        {
          "name": "stdout",
          "output_type": "stream",
          "text": [
            "Extracting data/MNIST/raw/train-images-idx3-ubyte.gz to data/MNIST/raw\n"
          ]
        },
        {
          "name": "stderr",
          "output_type": "stream",
          "text": [
            "\n"
          ]
        },
        {
          "name": "stdout",
          "output_type": "stream",
          "text": [
            "\n",
            "Downloading http://yann.lecun.com/exdb/mnist/train-labels-idx1-ubyte.gz\n",
            "Downloading http://yann.lecun.com/exdb/mnist/train-labels-idx1-ubyte.gz to data/MNIST/raw/train-labels-idx1-ubyte.gz\n"
          ]
        },
        {
          "name": "stderr",
          "output_type": "stream",
          "text": [
            "100%|██████████| 28881/28881 [00:00<00:00, 25718830.96it/s]\n"
          ]
        },
        {
          "name": "stdout",
          "output_type": "stream",
          "text": [
            "Extracting data/MNIST/raw/train-labels-idx1-ubyte.gz to data/MNIST/raw\n",
            "\n",
            "Downloading http://yann.lecun.com/exdb/mnist/t10k-images-idx3-ubyte.gz\n",
            "Downloading http://yann.lecun.com/exdb/mnist/t10k-images-idx3-ubyte.gz to data/MNIST/raw/t10k-images-idx3-ubyte.gz\n"
          ]
        },
        {
          "name": "stderr",
          "output_type": "stream",
          "text": [
            "100%|██████████| 1648877/1648877 [00:00<00:00, 184556651.37it/s]\n"
          ]
        },
        {
          "name": "stdout",
          "output_type": "stream",
          "text": [
            "Extracting data/MNIST/raw/t10k-images-idx3-ubyte.gz to data/MNIST/raw\n",
            "\n",
            "Downloading http://yann.lecun.com/exdb/mnist/t10k-labels-idx1-ubyte.gz\n",
            "Downloading http://yann.lecun.com/exdb/mnist/t10k-labels-idx1-ubyte.gz to data/MNIST/raw/t10k-labels-idx1-ubyte.gz\n"
          ]
        },
        {
          "name": "stderr",
          "output_type": "stream",
          "text": [
            "100%|██████████| 4542/4542 [00:00<00:00, 23147665.57it/s]"
          ]
        },
        {
          "name": "stdout",
          "output_type": "stream",
          "text": [
            "Extracting data/MNIST/raw/t10k-labels-idx1-ubyte.gz to data/MNIST/raw\n",
            "\n"
          ]
        },
        {
          "name": "stderr",
          "output_type": "stream",
          "text": [
            "\n"
          ]
        }
      ],
      "source": [
        "import torch\n",
        "import numpy as np\n",
        "from torchvision import datasets\n",
        "import torchvision.transforms as transforms\n",
        "\n",
        "# Convert data to torch.FloatTensor\n",
        "transform = transforms.ToTensor()\n",
        "\n",
        "# Load the training and test datasets\n",
        "train_data = datasets.MNIST(root='data', train=True,\n",
        "                                   download=True, transform=transform)\n",
        "test_data = datasets.MNIST(root='data', train=False,\n",
        "                                  download=True, transform=transform)"
      ]
    },
    {
      "cell_type": "code",
      "execution_count": null,
      "metadata": {
        "id": "Lig-NUzmAuiZ"
      },
      "outputs": [],
      "source": [
        "## Create training and test dataloaders\n",
        "\n",
        "# How many samples per batch to load\n",
        "# You can tune the batch size\n",
        "batch_size = 20\n",
        "\n",
        "# Prepare data loaders\n",
        "train_loader = torch.utils.data.DataLoader(train_data,\n",
        "                                           batch_size=batch_size,\n",
        "                                           shuffle = True,\n",
        "                                           num_workers=0)\n",
        "test_loader = torch.utils.data.DataLoader(test_data,\n",
        "                                          batch_size=batch_size,\n",
        "                                          shuffle = False,\n",
        "                                          num_workers=0)"
      ]
    },
    {
      "cell_type": "markdown",
      "metadata": {
        "id": "Wk4UCmCdBjjZ"
      },
      "source": [
        "## Visualize the data"
      ]
    },
    {
      "cell_type": "code",
      "execution_count": null,
      "metadata": {
        "colab": {
          "base_uri": "https://localhost:8080/",
          "height": 462
        },
        "id": "3BeTdD4yBcl9",
        "outputId": "94caa424-e1b5-41bc-bd39-4b7a61ffc45f"
      },
      "outputs": [
        {
          "data": {
            "text/plain": [
              "<matplotlib.image.AxesImage at 0x7871c2034430>"
            ]
          },
          "execution_count": 27,
          "metadata": {},
          "output_type": "execute_result"
        },
        {
          "data": {
            "image/png": "[encoded data removed]",
            "text/plain": [
              "<Figure size 500x500 with 1 Axes>"
            ]
          },
          "metadata": {},
          "output_type": "display_data"
        }
      ],
      "source": [
        "import matplotlib.pyplot as plt\n",
        "%matplotlib inline\n",
        "\n",
        "# Obtain one batch of training images\n",
        "dataiter = iter(train_loader)\n",
        "images, labels = next(dataiter)\n",
        "images = images.numpy()\n",
        "\n",
        "# Get one image from the batch\n",
        "img = np.squeeze(images[0])\n",
        "\n",
        "fig = plt.figure(figsize = (5,5))\n",
        "ax = fig.add_subplot(111)\n",
        "ax.imshow(img, cmap='gray')"
      ]
    },
    {
      "cell_type": "markdown",
      "metadata": {
        "id": "LzWxOoXYCUiz"
      },
      "source": [
        "## Build the Linear Autoencoder\n",
        "We now train a linear autoencoder on MINIST dataset.\n",
        "Images of original size 28$\\times$28 will be flattened into 784-dimensional vectors.\n",
        "Note that images from this dataset are already normalized so that the values are between 0 and 1.\n",
        "Since the images are normalized between 0 and 1, we need to use a sigmoid activation on the output layer to get values that match this input value range.\n",
        "\n",
        "The encoder and decoder in the Autoencoder are built with one linear layer where you can tune the dimension of the hidden representation, i.e., ``encoding_dim``, to obtain models with different size."
      ]
    },
    {
      "cell_type": "code",
      "execution_count": null,
      "metadata": {
        "id": "05JucJsoB6E-"
      },
      "outputs": [],
      "source": [
        "import torch.nn as nn\n",
        "import torch.nn.functional as F\n",
        "\n",
        "# Define the NN architecture\n",
        "class Autoencoder(nn.Module):\n",
        "    def __init__(self, encoding_dim):\n",
        "        super(Autoencoder, self).__init__()\n",
        "        # Encoder\n",
        "        self.encoder = nn.Linear(784, encoding_dim)\n",
        "        # Decoder\n",
        "        self.decoder = nn.Linear(encoding_dim, 784)\n",
        "\n",
        "    def forward(self, x):\n",
        "        # Define feedforward behavior\n",
        "        # and scale the *output* layer with a sigmoid activation function\n",
        "\n",
        "        # Pass x into encoder\n",
        "        out = F.relu(self.encoder(x))\n",
        "        # Pass out into decoder\n",
        "        out = torch.sigmoid(self.decoder(out))\n",
        "\n",
        "        return out"
      ]
    },
    {
      "cell_type": "code",
      "execution_count": null,
      "metadata": {
        "colab": {
          "base_uri": "https://localhost:8080/"
        },
        "id": "FtBYi-kACg1A",
        "outputId": "fda384e8-33be-4bd1-b80d-7bf65ed426eb"
      },
      "outputs": [
        {
          "name": "stdout",
          "output_type": "stream",
          "text": [
            "Autoencoder(\n",
            "  (encoder): Linear(in_features=784, out_features=64, bias=True)\n",
            "  (decoder): Linear(in_features=64, out_features=784, bias=True)\n",
            ")\n"
          ]
        }
      ],
      "source": [
        "# Initialize the NN\n",
        "# You can change the encoding_dim to obtain models with different size\n",
        "encoding_dim = 64\n",
        "model = Autoencoder(encoding_dim)\n",
        "\n",
        "# Send model to GPU\n",
        "model.cuda()\n",
        "print(model)"
      ]
    },
    {
      "cell_type": "markdown",
      "metadata": {
        "id": "D6oAhmIwEDgo"
      },
      "source": [
        "## Training on MNIST\n",
        "Since we work on reconstruction learning tasks, we do not need the labels here but only the images.\n",
        "The loss function should choose the MSE loss for reconstruction."
      ]
    },
    {
      "cell_type": "code",
      "execution_count": null,
      "metadata": {
        "id": "NHDQeQlfCh9P"
      },
      "outputs": [],
      "source": [
        "# Specify the loss function\n",
        "criterion = nn.MSELoss()\n",
        "\n",
        "# We use Adam as the optimizer with a fixed learning rate of 1e-3\n",
        "optimizer = torch.optim.Adam(model.parameters(), lr=0.001)"
      ]
    },
    {
      "cell_type": "code",
      "execution_count": null,
      "metadata": {
        "colab": {
          "base_uri": "https://localhost:8080/"
        },
        "id": "ssUxyRJSEUzV",
        "outputId": "f1e6361e-045a-407c-e3bc-1553207332c7"
      },
      "outputs": [
        {
          "name": "stdout",
          "output_type": "stream",
          "text": [
            "Epoch: 0 \tTraining Loss: 0.426306\n",
            "Epoch: 1 \tTraining Loss: 0.136120\n",
            "Epoch: 2 \tTraining Loss: 0.115453\n",
            "Epoch: 3 \tTraining Loss: 0.109832\n",
            "Epoch: 4 \tTraining Loss: 0.106484\n",
            "Epoch: 5 \tTraining Loss: 0.104240\n",
            "Epoch: 6 \tTraining Loss: 0.102618\n",
            "Epoch: 7 \tTraining Loss: 0.101598\n",
            "Epoch: 8 \tTraining Loss: 0.100714\n",
            "Epoch: 9 \tTraining Loss: 0.099932\n",
            "Epoch: 10 \tTraining Loss: 0.099416\n",
            "Epoch: 11 \tTraining Loss: 0.098896\n",
            "Epoch: 12 \tTraining Loss: 0.098574\n",
            "Epoch: 13 \tTraining Loss: 0.098262\n",
            "Epoch: 14 \tTraining Loss: 0.097897\n",
            "Epoch: 15 \tTraining Loss: 0.097536\n",
            "Epoch: 16 \tTraining Loss: 0.097363\n",
            "Epoch: 17 \tTraining Loss: 0.097119\n",
            "Epoch: 18 \tTraining Loss: 0.096967\n",
            "Epoch: 19 \tTraining Loss: 0.096753\n"
          ]
        }
      ],
      "source": [
        "# Number of epochs to train the model\n",
        "# You can also tune the number of Epochs\n",
        "n_epochs = 20\n",
        "# Set model to training mode\n",
        "model.train()\n",
        "\n",
        "for epoch in range(n_epochs):\n",
        "    # Monitor training loss\n",
        "    train_loss = 0.0\n",
        "\n",
        "    # Train the model #\n",
        "\n",
        "    for data in train_loader:\n",
        "        # _ stands in for labels\n",
        "        # we do not need labels when conducting reconstruction\n",
        "        images, _ = data\n",
        "        # Flatten images and send images to GPU\n",
        "        images = images.view(images.size(0), -1).cuda()\n",
        "        # Clear the gradients of all optimized variables\n",
        "        optimizer.zero_grad()\n",
        "        # Forward pass: compute predicted outputs by passing inputs to the model\n",
        "        outputs = model(images)\n",
        "        # Calculate the loss\n",
        "        loss = criterion(outputs, images)\n",
        "        # Backward pass: compute gradient of the loss with respect to model parameters\n",
        "        loss.backward()\n",
        "        # Perform a single optimization step (parameter update)\n",
        "        optimizer.step()\n",
        "        # Update running training loss\n",
        "        train_loss += loss.item()*images.size(0)\n",
        "\n",
        "    # Print avg training statistics\n",
        "    train_loss = train_loss/len(train_loader)\n",
        "    print('Epoch: {} \\tTraining Loss: {:.6f}'.format(\n",
        "        epoch,\n",
        "        train_loss\n",
        "        ))"
      ]
    },
    {
      "cell_type": "markdown",
      "metadata": {
        "id": "JeN_f28fJ1lq"
      },
      "source": [
        "## Evaluation on test set\n",
        "We now evaluate the reconstruction results on the test set.\n",
        "We plot the original test images and their corresponding reconstruction ones."
      ]
    },
    {
      "cell_type": "code",
      "execution_count": null,
      "metadata": {
        "colab": {
          "base_uri": "https://localhost:8080/",
          "height": 131
        },
        "id": "gemBn0ihG2Yo",
        "outputId": "ebdd3fe7-bd36-44cd-ebff-a7dc6dd619ac"
      },
      "outputs": [
        {
          "data": {
            "image/png": "[encoded data removed]",
            "text/plain": [
              "<Figure size 2500x400 with 20 Axes>"
            ]
          },
          "metadata": {},
          "output_type": "display_data"
        }
      ],
      "source": [
        "# Obtain one batch of test images\n",
        "dataiter = iter(test_loader)\n",
        "images, labels = next(dataiter)\n",
        "\n",
        "images_flatten = images.view(images.size(0), -1)\n",
        "# Set model to evaluation mode\n",
        "model.eval()\n",
        "# Send model back to CPU\n",
        "model.cpu()\n",
        "# Get sample outputs\n",
        "output = model(images_flatten)\n",
        "# Prep images for display\n",
        "images = images.numpy()\n",
        "\n",
        "# Output is resized into a batch of images\n",
        "output = output.view(batch_size, 1, 28, 28)\n",
        "# Use detach when it's an output that requires_grad\n",
        "output = output.detach().numpy()\n",
        "\n",
        "# Plot the first ten input images and then reconstructed images\n",
        "fig, axes = plt.subplots(nrows=2, ncols=10, sharex=True, sharey=True, figsize=(25,4))\n",
        "\n",
        "# Input images on top row, reconstructions on bottom\n",
        "for images, row in zip([images, output], axes):\n",
        "    for img, ax in zip(images, row):\n",
        "        ax.imshow(np.squeeze(img), cmap='gray')\n",
        "        ax.get_xaxis().set_visible(False)\n",
        "        ax.get_yaxis().set_visible(False)"
      ]
    },
    {
      "cell_type": "markdown",
      "metadata": {
        "id": "nVYXhsPrLBrV"
      },
      "source": [
        "# Stacked Autoencoder\n",
        "In this section, we implement the Stacked Autoencoder from scrath and train it on the MNIST dataset.\n",
        "The training process is with two steps: (1) each layer is trained separately; (2) the network is trained as a whole.\n",
        "\n",
        "We first load the dataset as follows:"
      ]
    },
    {
      "cell_type": "code",
      "execution_count": null,
      "metadata": {
        "id": "8163o-y3SLfw"
      },
      "outputs": [],
      "source": [
        "import torch\n",
        "from torch import nn, optim, functional, utils\n",
        "from torch.nn import BCELoss\n",
        "from torch.utils.data.dataloader import DataLoader\n",
        "import torchvision\n",
        "from torchvision import datasets, utils\n",
        "from torchvision.datasets import MNIST\n",
        "\n",
        "import time, os\n",
        "\n",
        "def get_mnist_loader(batch_size=100, shuffle=True):\n",
        "    \"\"\"\n",
        "\n",
        "    :return: train_loader, test_loader\n",
        "    \"\"\"\n",
        "    train_dataset = MNIST(root='../data',\n",
        "                          train=True,\n",
        "                          transform=torchvision.transforms.ToTensor(),\n",
        "                          download=True)\n",
        "    test_dataset = MNIST(root='../data',\n",
        "                         train=False,\n",
        "                         transform=torchvision.transforms.ToTensor(),\n",
        "                         download=True)\n",
        "\n",
        "    train_loader = torch.utils.data.DataLoader(dataset=train_dataset,\n",
        "                                               batch_size=batch_size,\n",
        "                                               shuffle=shuffle)\n",
        "    test_loader = torch.utils.data.DataLoader(dataset=test_dataset,\n",
        "                                              batch_size=batch_size,\n",
        "                                              shuffle=False)\n",
        "    return train_loader, test_loader"
      ]
    },
    {
      "cell_type": "markdown",
      "metadata": {
        "id": "8GimciNoQI73"
      },
      "source": [
        "## Build the Stacked Autoencoder\n",
        "Before building the Stacked Autoencoder, we need to build the Autoencoder layer first."
      ]
    },
    {
      "cell_type": "code",
      "execution_count": null,
      "metadata": {
        "id": "TNjUD_jNLDN3"
      },
      "outputs": [],
      "source": [
        "class AutoEncoderLayer(nn.Module):\n",
        "    \"\"\"\n",
        "    fully-connected linear layers for stacked autoencoders.\n",
        "    This module can automatically be trained when training each layer is enabled\n",
        "    Yes, this is much like the simplest auto-encoder\n",
        "    \"\"\"\n",
        "    def __init__(self, input_dim=None, output_dim=None, SelfTraining=False):\n",
        "        super(AutoEncoderLayer, self).__init__()\n",
        "        # If input_dim is None or output_dim is None:\n",
        "        # raise ValueError\n",
        "        self.in_features = input_dim\n",
        "        self.out_features = output_dim\n",
        "        # Whether to conduct layer-by-layer pre-training, or train the entire network\n",
        "        self.is_training_self = SelfTraining\n",
        "        self.encoder = nn.Sequential(\n",
        "            nn.Linear(self.in_features, self.out_features, bias=True),\n",
        "            nn.Sigmoid()  # use Sigmoid activation function\n",
        "        )\n",
        "        self.decoder = nn.Sequential(\n",
        "            nn.Linear(self.out_features, self.in_features, bias=True),\n",
        "            nn.Sigmoid()\n",
        "        )\n",
        "\n",
        "    def forward(self, x):\n",
        "        out = self.encoder(x)\n",
        "        if self.is_training_self:\n",
        "            return self.decoder(out)\n",
        "        else:\n",
        "            return out\n",
        "\n",
        "    def lock_grad(self):\n",
        "        for param in self.parameters():\n",
        "            param.requires_grad = False\n",
        "\n",
        "    def acquire_grad(self):\n",
        "        for param in self.parameters():\n",
        "            param.requires_grad = True\n",
        "\n",
        "    @property\n",
        "    def input_dim(self):\n",
        "        return self.in_features\n",
        "\n",
        "    @property\n",
        "    def output_dim(self):\n",
        "        return self.out_features\n",
        "\n",
        "    @property\n",
        "    def is_training_layer(self):\n",
        "        return self.is_training_self\n",
        "\n",
        "    @is_training_layer.setter\n",
        "    def is_training_layer(self, other: bool):\n",
        "        self.is_training_self = other\n",
        "\n",
        "\n",
        "class StackedAutoEncoder(nn.Module):\n",
        "    \"\"\"\n",
        "    Construct the whole network with layers_list\n",
        "    Stacked autoencoders is generally symmetrical about the middle hidden layer\n",
        "    \"\"\"\n",
        "    def __init__(self, layers_list=None):\n",
        "        super(StackedAutoEncoder, self).__init__()\n",
        "        self.layers_list = layers_list\n",
        "        self.initialize()\n",
        "        self.encoder_1 = self.layers_list[0]\n",
        "        self.encoder_2 = self.layers_list[1]\n",
        "        self.encoder_3 = self.layers_list[2]\n",
        "        self.encoder_4 = self.layers_list[3]\n",
        "\n",
        "    def initialize(self):\n",
        "        for layer in self.layers_list:\n",
        "            # assert isinstance(layer, AutoEncoderLayer)\n",
        "            layer.is_training_layer = False\n",
        "\n",
        "    def forward(self, x):\n",
        "        out = x\n",
        "        out = self.encoder_1(out)\n",
        "        out = self.encoder_2(out)\n",
        "        out = self.encoder_3(out)\n",
        "        out = self.encoder_4(out)\n",
        "        return out"
      ]
    },
    {
      "cell_type": "markdown",
      "metadata": {
        "id": "1UQL0TzMRxc3"
      },
      "source": [
        "## The training function of each layer\n",
        "We need to freeze the parameters in the previsou layers when training the current layer."
      ]
    },
    {
      "cell_type": "code",
      "execution_count": null,
      "metadata": {
        "id": "pvZYBFsGRsmg"
      },
      "outputs": [],
      "source": [
        "def train_layers(layers_list=None, layer=None, epoch=None, validate=True):\n",
        "    \"\"\"\n",
        "    Greedy layer-wise training: when training the i-th layer, freeze the i-1 layer\n",
        "    :param layers_list:\n",
        "    :param layer:\n",
        "    :param epoch:\n",
        "    :return:\n",
        "    \"\"\"\n",
        "    if torch.cuda.is_available():\n",
        "        for model in layers_list:\n",
        "            model.cuda()\n",
        "\n",
        "    train_loader, test_loader = get_mnist_loader(batch_size=batch_size, shuffle=True)\n",
        "    optimizer = optim.Adam(layers_list[layer].parameters(), lr=0.001)\n",
        "    criterion = BCELoss()\n",
        "\n",
        "    # Train\n",
        "    for epoch_index in range(epoch):\n",
        "        sum_loss = 0.\n",
        "\n",
        "        # Freeze the parameters of all layers before the current layer\n",
        "        # Layer 0 has no previous layer\n",
        "        if layer != 0:\n",
        "            for index in range(layer):\n",
        "                # In addition to freezing parameters\n",
        "                # the output return method of the frozen layer must also be set.\n",
        "                layers_list[index].lock_grad()\n",
        "                layers_list[index].is_training_layer = False\n",
        "\n",
        "        for batch_index, (train_data, _) in enumerate(train_loader):\n",
        "            # Generate input data\n",
        "            if torch.cuda.is_available():\n",
        "                train_data = train_data.cuda()  # Put data onto GPU\n",
        "            out = train_data.view(train_data.size(0), -1)\n",
        "\n",
        "            # Perform forward calculation on the frozen layers before (layer-1)-th layer\n",
        "            if layer != 0:\n",
        "                for l in range(layer):\n",
        "                    out = layers_list[l](out)\n",
        "\n",
        "            # Train the layer-th layer\n",
        "            pred = layers_list[layer](out)\n",
        "\n",
        "            optimizer.zero_grad()\n",
        "            loss = criterion(pred, out)\n",
        "            sum_loss += loss\n",
        "            loss.backward()\n",
        "            optimizer.step()\n",
        "            if (batch_index + 1) % 10 == 0:\n",
        "                print(\"Train Layer: {}, Epoch: {}/{}, Iter: {}/{}, Loss: {:.4f}\".format(\n",
        "                    layer, (epoch_index + 1), epoch, (batch_index + 1), len(train_loader), loss\n",
        "                ))\n",
        "\n",
        "\n",
        "        # Save reconstructed images after each epoch\n",
        "        test_data, _ = next(iter(test_loader))\n",
        "        with torch.no_grad():\n",
        "            layers_list[layer].eval()\n",
        "            test_data = test_data.cuda() if torch.cuda.is_available() else test_data\n",
        "            test_output = layers_list[layer](test_data.view(test_data.size(0), -1))\n",
        "            torchvision.utils.save_image(test_output.view(batch_size, 1, 28, 28), './test_images/pretrain_layer_{}_epoch_{}_output.png'.format(layer, epoch_index))\n",
        "\n",
        "\n",
        "        if validate:\n",
        "            pass\n",
        "\n",
        "# def train_layers(layers_list=None, layer=None, epoch=None, validate=True):\n",
        "#     \"\"\"\n",
        "#     Greedy layer-wise training: when training the i-th layer, freeze the i-1 layer\n",
        "#     :param layers_list:\n",
        "#     :param layer:\n",
        "#     :param epoch:\n",
        "#     :return:\n",
        "#     \"\"\"\n",
        "#     if torch.cuda.is_available():\n",
        "#         for model in layers_list:\n",
        "#             model.cuda()\n",
        "\n",
        "#     train_loader, test_loader = get_mnist_loader(batch_size=batch_size, shuffle=True)\n",
        "#     optimizer = optim.Adam(layers_list[layer].parameters(), lr=0.001)\n",
        "#     criterion = BCELoss()\n",
        "\n",
        "#     # Train\n",
        "#     for epoch_index in range(epoch):\n",
        "#         sum_loss = 0.\n",
        "\n",
        "#         # Freeze the parameters of all layers before the current layer\n",
        "#         # Layer 0 has no previous layer\n",
        "#         if layer != 0:\n",
        "#             for index in range(layer):\n",
        "#                 layers_list[index].lock_grad()\n",
        "#                 layers_list[index].is_training_layer = False\n",
        "\n",
        "#         for batch_index, (train_data, _) in enumerate(train_loader):\n",
        "#             if torch.cuda.is_available():\n",
        "#                 train_data = train_data.cuda()\n",
        "#             out = train_data.view(train_data.size(0), -1)\n",
        "\n",
        "#             if layer != 0:\n",
        "#                 for l in range(layer):\n",
        "#                     out = layers_list[l](out)\n",
        "\n",
        "#             pred = layers_list[layer](out)\n",
        "\n",
        "#             optimizer.zero_grad()\n",
        "#             loss = criterion(pred, out)\n",
        "#             sum_loss += loss\n",
        "#             loss.backward()\n",
        "#             optimizer.step()\n",
        "\n",
        "#             if (batch_index + 1) % 10 == 0:\n",
        "#                 print(\"Train Layer: {}, Epoch: {}/{}, Iter: {}/{}, Loss: {:.4f}\".format(\n",
        "#                     layer, (epoch_index + 1), epoch, (batch_index + 1), len(train_loader), loss\n",
        "#                 ))\n",
        "\n",
        "#         # Saving reconstructed images after each epoch\n",
        "#         test_data, _ = next(iter(test_loader))\n",
        "#         with torch.no_grad():\n",
        "#             if torch.cuda.is_available():\n",
        "#                 test_data = test_data.cuda()\n",
        "#             x = test_data.view(test_data.size(0), -1)\n",
        "\n",
        "#             if layer != 0:\n",
        "#                 for l in range(layer):\n",
        "#                     x = layers_list[l](x)\n",
        "\n",
        "#             reconstructed = layers_list[layer](x)\n",
        "#             image_tensor = reconstructed.view(batch_size, 1, 28, 28)\n",
        "#             torchvision.utils.save_image(image_tensor, './test_images/pretrain_layer_{}_epoch_{}_output.png'.format(layer, epoch_index))\n",
        "\n",
        "#         if validate:\n",
        "#             pass\n",
        "#             # Validation code can be added here if needed\n"
      ]
    },
    {
      "cell_type": "markdown",
      "metadata": {
        "id": "fzOYc3BWx1WY"
      },
      "source": [
        "## The training function of the whole network\n",
        "Now we unfreeze all the parameters in the network that are previously frozen for the layer training."
      ]
    },
    {
      "cell_type": "code",
      "execution_count": null,
      "metadata": {
        "id": "c3NM4lrWSrdS"
      },
      "outputs": [],
      "source": [
        "def train_whole(model=None, epoch=50, validate=True):\n",
        "\n",
        "    print(\">> start training whole model\")\n",
        "    if torch.cuda.is_available():\n",
        "        model.cuda()\n",
        "\n",
        "    # unfreeze the parameters frozen in pre-training\n",
        "    for param in model.parameters():\n",
        "        param.require_grad = True\n",
        "\n",
        "    train_loader, test_loader = get_mnist_loader(batch_size=batch_size, shuffle=shuffle)\n",
        "    optimizer = optim.Adam(model.parameters(), lr=0.001)\n",
        "    criterion = torch.nn.MSELoss()\n",
        "\n",
        "    # Generate/save the original test image --take a batch_size\n",
        "    test_data, _ = next(iter(test_loader))\n",
        "    torchvision.utils.save_image(test_data, './test_images/real_test_images.png')\n",
        "\n",
        "    model.train()\n",
        "\n",
        "    # train\n",
        "    for epoch_index in range(epoch):\n",
        "        sum_loss = 0.\n",
        "        for batch_index, (train_data, _) in enumerate(train_loader):\n",
        "            if torch.cuda.is_available():\n",
        "                train_data = train_data.cuda()\n",
        "            x = train_data.view(train_data.size(0), -1)\n",
        "\n",
        "            out = model(x)\n",
        "\n",
        "            optimizer.zero_grad()\n",
        "            loss = criterion(out, x)\n",
        "            sum_loss += loss\n",
        "            loss.backward()\n",
        "            optimizer.step()\n",
        "\n",
        "            if (batch_index + 1) % 10 == 0:\n",
        "                print(\"Train Whole, Epoch: {}/{}, Iter: {}/{}, Loss: {:.4f}\".format(\n",
        "                    (epoch_index + 1), epoch, (batch_index + 1), len(train_loader), loss\n",
        "                ))\n",
        "            if batch_index == len(train_loader) - 1:\n",
        "                torchvision.utils.save_image(out.view(100, 1, 28, 28), \"./test_images/out_{}_{}.png\".format(epoch_index, batch_index))\n",
        "\n",
        "        # evaluate the model for each epoch\n",
        "        if validate:\n",
        "            with torch.no_grad():\n",
        "                model.eval()\n",
        "                if torch.cuda.is_available():\n",
        "                    test_data = test_data.cuda()\n",
        "                x = test_data.view(test_data.size(0), -1)\n",
        "                out = model(x)\n",
        "                loss = criterion(out, x)\n",
        "                print(\"Test Epoch: {}/{}, Iter: {}/{}, test Loss: {}\".format(\n",
        "                    epoch_index + 1, epoch, (epoch_index + 1), len(test_loader), loss\n",
        "                ))\n",
        "                image_tensor = out.view(batch_size, 1, 28, 28)\n",
        "                torchvision.utils.save_image(image_tensor, './test_images/test_image_epoch_{}.png'.format(epoch_index))\n",
        "\n",
        "    print(\"<< end training whole model\")\n"
      ]
    },
    {
      "cell_type": "markdown",
      "metadata": {
        "id": "bkccSfRJx4ah"
      },
      "source": [
        "## Let's start training!\n",
        "The default network is trained with layer epochs 20, whole epochs 50, batch size of 100. You can try to change the hyper-parameters to obtain better reconstruction performance."
      ]
    },
    {
      "cell_type": "code",
      "execution_count": null,
      "metadata": {
        "id": "zm44Cap4T7oS"
      },
      "outputs": [],
      "source": [
        "# You can change the hyper-parameters here\n",
        "num_tranin_layer_epochs = 5 # 20\n",
        "num_tranin_whole_epochs = 5 # 50\n",
        "batch_size = 100\n",
        "shuffle = True"
      ]
    },
    {
      "cell_type": "code",
      "execution_count": null,
      "metadata": {
        "colab": {
          "base_uri": "https://localhost:8080/",
          "height": 1000
        },
        "id": "M6N2XhTqT_-X",
        "outputId": "e6958f6a-b71d-4d5a-99ad-1cf57d14c49b"
      },
      "outputs": [
        {
          "name": "stdout",
          "output_type": "stream",
          "text": [
            "Train Layer: 0, Epoch: 1/5, Iter: 10/600, Loss: 0.3801\n",
            "Train Layer: 0, Epoch: 1/5, Iter: 20/600, Loss: 0.2781\n",
            "Train Layer: 0, Epoch: 1/5, Iter: 30/600, Loss: 0.2588\n",
            "Train Layer: 0, Epoch: 1/5, Iter: 40/600, Loss: 0.2698\n",
            "Train Layer: 0, Epoch: 1/5, Iter: 50/600, Loss: 0.2664\n",
            "Train Layer: 0, Epoch: 1/5, Iter: 60/600, Loss: 0.2527\n",
            "Train Layer: 0, Epoch: 1/5, Iter: 70/600, Loss: 0.2622\n",
            "Train Layer: 0, Epoch: 1/5, Iter: 80/600, Loss: 0.2592\n",
            "Train Layer: 0, Epoch: 1/5, Iter: 90/600, Loss: 0.2476\n",
            "Train Layer: 0, Epoch: 1/5, Iter: 100/600, Loss: 0.2419\n",
            "Train Layer: 0, Epoch: 1/5, Iter: 110/600, Loss: 0.2469\n",
            "Train Layer: 0, Epoch: 1/5, Iter: 120/600, Loss: 0.2372\n",
            "Train Layer: 0, Epoch: 1/5, Iter: 130/600, Loss: 0.2309\n",
            "Train Layer: 0, Epoch: 1/5, Iter: 140/600, Loss: 0.2375\n",
            "Train Layer: 0, Epoch: 1/5, Iter: 150/600, Loss: 0.2183\n",
            "Train Layer: 0, Epoch: 1/5, Iter: 160/600, Loss: 0.2230\n",
            "Train Layer: 0, Epoch: 1/5, Iter: 170/600, Loss: 0.2171\n",
            "Train Layer: 0, Epoch: 1/5, Iter: 180/600, Loss: 0.2044\n",
            "Train Layer: 0, Epoch: 1/5, Iter: 190/600, Loss: 0.1995\n",
            "Train Layer: 0, Epoch: 1/5, Iter: 200/600, Loss: 0.2066\n",
            "Train Layer: 0, Epoch: 1/5, Iter: 210/600, Loss: 0.1945\n",
            "Train Layer: 0, Epoch: 1/5, Iter: 220/600, Loss: 0.1945\n",
            "Train Layer: 0, Epoch: 1/5, Iter: 230/600, Loss: 0.2019\n",
            "Train Layer: 0, Epoch: 1/5, Iter: 240/600, Loss: 0.2008\n",
            "Train Layer: 0, Epoch: 1/5, Iter: 250/600, Loss: 0.1928\n",
            "Train Layer: 0, Epoch: 1/5, Iter: 260/600, Loss: 0.1854\n",
            "Train Layer: 0, Epoch: 1/5, Iter: 270/600, Loss: 0.1783\n",
            "Train Layer: 0, Epoch: 1/5, Iter: 280/600, Loss: 0.1872\n",
            "Train Layer: 0, Epoch: 1/5, Iter: 290/600, Loss: 0.1880\n",
            "Train Layer: 0, Epoch: 1/5, Iter: 300/600, Loss: 0.1796\n",
            "Train Layer: 0, Epoch: 1/5, Iter: 310/600, Loss: 0.1807\n",
            "Train Layer: 0, Epoch: 1/5, Iter: 320/600, Loss: 0.1761\n",
            "Train Layer: 0, Epoch: 1/5, Iter: 330/600, Loss: 0.1874\n",
            "Train Layer: 0, Epoch: 1/5, Iter: 340/600, Loss: 0.1742\n",
            "Train Layer: 0, Epoch: 1/5, Iter: 350/600, Loss: 0.1658\n",
            "Train Layer: 0, Epoch: 1/5, Iter: 360/600, Loss: 0.1707\n",
            "Train Layer: 0, Epoch: 1/5, Iter: 370/600, Loss: 0.1705\n",
            "Train Layer: 0, Epoch: 1/5, Iter: 380/600, Loss: 0.1651\n",
            "Train Layer: 0, Epoch: 1/5, Iter: 390/600, Loss: 0.1623\n",
            "Train Layer: 0, Epoch: 1/5, Iter: 400/600, Loss: 0.1620\n",
            "Train Layer: 0, Epoch: 1/5, Iter: 410/600, Loss: 0.1670\n",
            "Train Layer: 0, Epoch: 1/5, Iter: 420/600, Loss: 0.1582\n",
            "Train Layer: 0, Epoch: 1/5, Iter: 430/600, Loss: 0.1573\n",
            "Train Layer: 0, Epoch: 1/5, Iter: 440/600, Loss: 0.1598\n",
            "Train Layer: 0, Epoch: 1/5, Iter: 450/600, Loss: 0.1681\n",
            "Train Layer: 0, Epoch: 1/5, Iter: 460/600, Loss: 0.1506\n",
            "Train Layer: 0, Epoch: 1/5, Iter: 470/600, Loss: 0.1573\n",
            "Train Layer: 0, Epoch: 1/5, Iter: 480/600, Loss: 0.1565\n",
            "Train Layer: 0, Epoch: 1/5, Iter: 490/600, Loss: 0.1502\n",
            "Train Layer: 0, Epoch: 1/5, Iter: 500/600, Loss: 0.1573\n",
            "Train Layer: 0, Epoch: 1/5, Iter: 510/600, Loss: 0.1505\n",
            "Train Layer: 0, Epoch: 1/5, Iter: 520/600, Loss: 0.1445\n",
            "Train Layer: 0, Epoch: 1/5, Iter: 530/600, Loss: 0.1422\n",
            "Train Layer: 0, Epoch: 1/5, Iter: 540/600, Loss: 0.1504\n",
            "Train Layer: 0, Epoch: 1/5, Iter: 550/600, Loss: 0.1424\n",
            "Train Layer: 0, Epoch: 1/5, Iter: 560/600, Loss: 0.1441\n",
            "Train Layer: 0, Epoch: 1/5, Iter: 570/600, Loss: 0.1509\n",
            "Train Layer: 0, Epoch: 1/5, Iter: 580/600, Loss: 0.1485\n",
            "Train Layer: 0, Epoch: 1/5, Iter: 590/600, Loss: 0.1459\n",
            "Train Layer: 0, Epoch: 1/5, Iter: 600/600, Loss: 0.1416\n",
            "Train Layer: 0, Epoch: 2/5, Iter: 10/600, Loss: 0.1364\n",
            "Train Layer: 0, Epoch: 2/5, Iter: 20/600, Loss: 0.1371\n",
            "Train Layer: 0, Epoch: 2/5, Iter: 30/600, Loss: 0.1346\n",
            "Train Layer: 0, Epoch: 2/5, Iter: 40/600, Loss: 0.1424\n",
            "Train Layer: 0, Epoch: 2/5, Iter: 50/600, Loss: 0.1351\n",
            "Train Layer: 0, Epoch: 2/5, Iter: 60/600, Loss: 0.1277\n",
            "Train Layer: 0, Epoch: 2/5, Iter: 70/600, Loss: 0.1319\n",
            "Train Layer: 0, Epoch: 2/5, Iter: 80/600, Loss: 0.1348\n",
            "Train Layer: 0, Epoch: 2/5, Iter: 90/600, Loss: 0.1306\n",
            "Train Layer: 0, Epoch: 2/5, Iter: 100/600, Loss: 0.1296\n",
            "Train Layer: 0, Epoch: 2/5, Iter: 110/600, Loss: 0.1345\n",
            "Train Layer: 0, Epoch: 2/5, Iter: 120/600, Loss: 0.1346\n",
            "Train Layer: 0, Epoch: 2/5, Iter: 130/600, Loss: 0.1320\n",
            "Train Layer: 0, Epoch: 2/5, Iter: 140/600, Loss: 0.1290\n",
            "Train Layer: 0, Epoch: 2/5, Iter: 150/600, Loss: 0.1275\n",
            "Train Layer: 0, Epoch: 2/5, Iter: 160/600, Loss: 0.1358\n",
            "Train Layer: 0, Epoch: 2/5, Iter: 170/600, Loss: 0.1246\n",
            "Train Layer: 0, Epoch: 2/5, Iter: 180/600, Loss: 0.1257\n",
            "Train Layer: 0, Epoch: 2/5, Iter: 190/600, Loss: 0.1315\n",
            "Train Layer: 0, Epoch: 2/5, Iter: 200/600, Loss: 0.1258\n",
            "Train Layer: 0, Epoch: 2/5, Iter: 210/600, Loss: 0.1245\n",
            "Train Layer: 0, Epoch: 2/5, Iter: 220/600, Loss: 0.1231\n",
            "Train Layer: 0, Epoch: 2/5, Iter: 230/600, Loss: 0.1198\n",
            "Train Layer: 0, Epoch: 2/5, Iter: 240/600, Loss: 0.1220\n",
            "Train Layer: 0, Epoch: 2/5, Iter: 250/600, Loss: 0.1235\n",
            "Train Layer: 0, Epoch: 2/5, Iter: 260/600, Loss: 0.1239\n",
            "Train Layer: 0, Epoch: 2/5, Iter: 270/600, Loss: 0.1269\n",
            "Train Layer: 0, Epoch: 2/5, Iter: 280/600, Loss: 0.1199\n",
            "Train Layer: 0, Epoch: 2/5, Iter: 290/600, Loss: 0.1275\n",
            "Train Layer: 0, Epoch: 2/5, Iter: 300/600, Loss: 0.1162\n",
            "Train Layer: 0, Epoch: 2/5, Iter: 310/600, Loss: 0.1214\n",
            "Train Layer: 0, Epoch: 2/5, Iter: 320/600, Loss: 0.1150\n",
            "Train Layer: 0, Epoch: 2/5, Iter: 330/600, Loss: 0.1195\n",
            "Train Layer: 0, Epoch: 2/5, Iter: 340/600, Loss: 0.1135\n",
            "Train Layer: 0, Epoch: 2/5, Iter: 350/600, Loss: 0.1106\n",
            "Train Layer: 0, Epoch: 2/5, Iter: 360/600, Loss: 0.1173\n",
            "Train Layer: 0, Epoch: 2/5, Iter: 370/600, Loss: 0.1145\n",
            "Train Layer: 0, Epoch: 2/5, Iter: 380/600, Loss: 0.1132\n",
            "Train Layer: 0, Epoch: 2/5, Iter: 390/600, Loss: 0.1146\n",
            "Train Layer: 0, Epoch: 2/5, Iter: 400/600, Loss: 0.1142\n",
            "Train Layer: 0, Epoch: 2/5, Iter: 410/600, Loss: 0.1062\n",
            "Train Layer: 0, Epoch: 2/5, Iter: 420/600, Loss: 0.1094\n",
            "Train Layer: 0, Epoch: 2/5, Iter: 430/600, Loss: 0.1133\n",
            "Train Layer: 0, Epoch: 2/5, Iter: 440/600, Loss: 0.1110\n",
            "Train Layer: 0, Epoch: 2/5, Iter: 450/600, Loss: 0.1140\n",
            "Train Layer: 0, Epoch: 2/5, Iter: 460/600, Loss: 0.1108\n",
            "Train Layer: 0, Epoch: 2/5, Iter: 470/600, Loss: 0.1089\n",
            "Train Layer: 0, Epoch: 2/5, Iter: 480/600, Loss: 0.1101\n",
            "Train Layer: 0, Epoch: 2/5, Iter: 490/600, Loss: 0.1077\n",
            "Train Layer: 0, Epoch: 2/5, Iter: 500/600, Loss: 0.1080\n",
            "Train Layer: 0, Epoch: 2/5, Iter: 510/600, Loss: 0.1077\n",
            "Train Layer: 0, Epoch: 2/5, Iter: 520/600, Loss: 0.1076\n",
            "Train Layer: 0, Epoch: 2/5, Iter: 530/600, Loss: 0.1047\n",
            "Train Layer: 0, Epoch: 2/5, Iter: 540/600, Loss: 0.1067\n",
            "Train Layer: 0, Epoch: 2/5, Iter: 550/600, Loss: 0.1065\n",
            "Train Layer: 0, Epoch: 2/5, Iter: 560/600, Loss: 0.1095\n",
            "Train Layer: 0, Epoch: 2/5, Iter: 570/600, Loss: 0.1133\n",
            "Train Layer: 0, Epoch: 2/5, Iter: 580/600, Loss: 0.1084\n",
            "Train Layer: 0, Epoch: 2/5, Iter: 590/600, Loss: 0.1043\n",
            "Train Layer: 0, Epoch: 2/5, Iter: 600/600, Loss: 0.1091\n",
            "Train Layer: 0, Epoch: 3/5, Iter: 10/600, Loss: 0.1108\n",
            "Train Layer: 0, Epoch: 3/5, Iter: 20/600, Loss: 0.1034\n",
            "Train Layer: 0, Epoch: 3/5, Iter: 30/600, Loss: 0.1032\n",
            "Train Layer: 0, Epoch: 3/5, Iter: 40/600, Loss: 0.1067\n",
            "Train Layer: 0, Epoch: 3/5, Iter: 50/600, Loss: 0.1049\n",
            "Train Layer: 0, Epoch: 3/5, Iter: 60/600, Loss: 0.1057\n",
            "Train Layer: 0, Epoch: 3/5, Iter: 70/600, Loss: 0.1072\n",
            "Train Layer: 0, Epoch: 3/5, Iter: 80/600, Loss: 0.1001\n",
            "Train Layer: 0, Epoch: 3/5, Iter: 90/600, Loss: 0.1027\n",
            "Train Layer: 0, Epoch: 3/5, Iter: 100/600, Loss: 0.0995\n",
            "Train Layer: 0, Epoch: 3/5, Iter: 110/600, Loss: 0.1074\n",
            "Train Layer: 0, Epoch: 3/5, Iter: 120/600, Loss: 0.1000\n",
            "Train Layer: 0, Epoch: 3/5, Iter: 130/600, Loss: 0.0966\n",
            "Train Layer: 0, Epoch: 3/5, Iter: 140/600, Loss: 0.1044\n",
            "Train Layer: 0, Epoch: 3/5, Iter: 150/600, Loss: 0.1044\n",
            "Train Layer: 0, Epoch: 3/5, Iter: 160/600, Loss: 0.1003\n",
            "Train Layer: 0, Epoch: 3/5, Iter: 170/600, Loss: 0.1022\n",
            "Train Layer: 0, Epoch: 3/5, Iter: 180/600, Loss: 0.0969\n",
            "Train Layer: 0, Epoch: 3/5, Iter: 190/600, Loss: 0.1035\n",
            "Train Layer: 0, Epoch: 3/5, Iter: 200/600, Loss: 0.0975\n",
            "Train Layer: 0, Epoch: 3/5, Iter: 210/600, Loss: 0.1000\n",
            "Train Layer: 0, Epoch: 3/5, Iter: 220/600, Loss: 0.0974\n",
            "Train Layer: 0, Epoch: 3/5, Iter: 230/600, Loss: 0.0977\n",
            "Train Layer: 0, Epoch: 3/5, Iter: 240/600, Loss: 0.0994\n",
            "Train Layer: 0, Epoch: 3/5, Iter: 250/600, Loss: 0.0989\n",
            "Train Layer: 0, Epoch: 3/5, Iter: 260/600, Loss: 0.0979\n",
            "Train Layer: 0, Epoch: 3/5, Iter: 270/600, Loss: 0.1001\n",
            "Train Layer: 0, Epoch: 3/5, Iter: 280/600, Loss: 0.1019\n",
            "Train Layer: 0, Epoch: 3/5, Iter: 290/600, Loss: 0.0941\n",
            "Train Layer: 0, Epoch: 3/5, Iter: 300/600, Loss: 0.0956\n",
            "Train Layer: 0, Epoch: 3/5, Iter: 310/600, Loss: 0.0935\n",
            "Train Layer: 0, Epoch: 3/5, Iter: 320/600, Loss: 0.0948\n",
            "Train Layer: 0, Epoch: 3/5, Iter: 330/600, Loss: 0.0936\n",
            "Train Layer: 0, Epoch: 3/5, Iter: 340/600, Loss: 0.0874\n",
            "Train Layer: 0, Epoch: 3/5, Iter: 350/600, Loss: 0.0920\n",
            "Train Layer: 0, Epoch: 3/5, Iter: 360/600, Loss: 0.0933\n",
            "Train Layer: 0, Epoch: 3/5, Iter: 370/600, Loss: 0.0951\n",
            "Train Layer: 0, Epoch: 3/5, Iter: 380/600, Loss: 0.0978\n",
            "Train Layer: 0, Epoch: 3/5, Iter: 390/600, Loss: 0.0973\n",
            "Train Layer: 0, Epoch: 3/5, Iter: 400/600, Loss: 0.0971\n",
            "Train Layer: 0, Epoch: 3/5, Iter: 410/600, Loss: 0.0968\n",
            "Train Layer: 0, Epoch: 3/5, Iter: 420/600, Loss: 0.0912\n",
            "Train Layer: 0, Epoch: 3/5, Iter: 430/600, Loss: 0.0906\n",
            "Train Layer: 0, Epoch: 3/5, Iter: 440/600, Loss: 0.0913\n",
            "Train Layer: 0, Epoch: 3/5, Iter: 450/600, Loss: 0.0911\n",
            "Train Layer: 0, Epoch: 3/5, Iter: 460/600, Loss: 0.0931\n",
            "Train Layer: 0, Epoch: 3/5, Iter: 470/600, Loss: 0.0915\n",
            "Train Layer: 0, Epoch: 3/5, Iter: 480/600, Loss: 0.0899\n",
            "Train Layer: 0, Epoch: 3/5, Iter: 490/600, Loss: 0.0911\n",
            "Train Layer: 0, Epoch: 3/5, Iter: 500/600, Loss: 0.0873\n",
            "Train Layer: 0, Epoch: 3/5, Iter: 510/600, Loss: 0.0924\n",
            "Train Layer: 0, Epoch: 3/5, Iter: 520/600, Loss: 0.0910\n",
            "Train Layer: 0, Epoch: 3/5, Iter: 530/600, Loss: 0.0935\n",
            "Train Layer: 0, Epoch: 3/5, Iter: 540/600, Loss: 0.0875\n",
            "Train Layer: 0, Epoch: 3/5, Iter: 550/600, Loss: 0.0945\n",
            "Train Layer: 0, Epoch: 3/5, Iter: 560/600, Loss: 0.0873\n",
            "Train Layer: 0, Epoch: 3/5, Iter: 570/600, Loss: 0.0916\n",
            "Train Layer: 0, Epoch: 3/5, Iter: 580/600, Loss: 0.0882\n",
            "Train Layer: 0, Epoch: 3/5, Iter: 590/600, Loss: 0.0864\n",
            "Train Layer: 0, Epoch: 3/5, Iter: 600/600, Loss: 0.0894\n",
            "Train Layer: 0, Epoch: 4/5, Iter: 10/600, Loss: 0.0900\n",
            "Train Layer: 0, Epoch: 4/5, Iter: 20/600, Loss: 0.0900\n",
            "Train Layer: 0, Epoch: 4/5, Iter: 30/600, Loss: 0.0906\n",
            "Train Layer: 0, Epoch: 4/5, Iter: 40/600, Loss: 0.0900\n",
            "Train Layer: 0, Epoch: 4/5, Iter: 50/600, Loss: 0.0869\n",
            "Train Layer: 0, Epoch: 4/5, Iter: 60/600, Loss: 0.0875\n",
            "Train Layer: 0, Epoch: 4/5, Iter: 70/600, Loss: 0.0889\n",
            "Train Layer: 0, Epoch: 4/5, Iter: 80/600, Loss: 0.0947\n",
            "Train Layer: 0, Epoch: 4/5, Iter: 90/600, Loss: 0.0918\n",
            "Train Layer: 0, Epoch: 4/5, Iter: 100/600, Loss: 0.0894\n",
            "Train Layer: 0, Epoch: 4/5, Iter: 110/600, Loss: 0.0866\n",
            "Train Layer: 0, Epoch: 4/5, Iter: 120/600, Loss: 0.0866\n",
            "Train Layer: 0, Epoch: 4/5, Iter: 130/600, Loss: 0.0891\n",
            "Train Layer: 0, Epoch: 4/5, Iter: 140/600, Loss: 0.0813\n",
            "Train Layer: 0, Epoch: 4/5, Iter: 150/600, Loss: 0.0894\n",
            "Train Layer: 0, Epoch: 4/5, Iter: 160/600, Loss: 0.0849\n",
            "Train Layer: 0, Epoch: 4/5, Iter: 170/600, Loss: 0.0891\n",
            "Train Layer: 0, Epoch: 4/5, Iter: 180/600, Loss: 0.0857\n",
            "Train Layer: 0, Epoch: 4/5, Iter: 190/600, Loss: 0.0860\n",
            "Train Layer: 0, Epoch: 4/5, Iter: 200/600, Loss: 0.0864\n",
            "Train Layer: 0, Epoch: 4/5, Iter: 210/600, Loss: 0.0905\n",
            "Train Layer: 0, Epoch: 4/5, Iter: 220/600, Loss: 0.0862\n",
            "Train Layer: 0, Epoch: 4/5, Iter: 230/600, Loss: 0.0867\n",
            "Train Layer: 0, Epoch: 4/5, Iter: 240/600, Loss: 0.0902\n",
            "Train Layer: 0, Epoch: 4/5, Iter: 250/600, Loss: 0.0886\n",
            "Train Layer: 0, Epoch: 4/5, Iter: 260/600, Loss: 0.0872\n",
            "Train Layer: 0, Epoch: 4/5, Iter: 270/600, Loss: 0.0881\n",
            "Train Layer: 0, Epoch: 4/5, Iter: 280/600, Loss: 0.0859\n",
            "Train Layer: 0, Epoch: 4/5, Iter: 290/600, Loss: 0.0858\n",
            "Train Layer: 0, Epoch: 4/5, Iter: 300/600, Loss: 0.0889\n",
            "Train Layer: 0, Epoch: 4/5, Iter: 310/600, Loss: 0.0836\n",
            "Train Layer: 0, Epoch: 4/5, Iter: 320/600, Loss: 0.0864\n",
            "Train Layer: 0, Epoch: 4/5, Iter: 330/600, Loss: 0.0826\n",
            "Train Layer: 0, Epoch: 4/5, Iter: 340/600, Loss: 0.0836\n",
            "Train Layer: 0, Epoch: 4/5, Iter: 350/600, Loss: 0.0850\n",
            "Train Layer: 0, Epoch: 4/5, Iter: 360/600, Loss: 0.0808\n",
            "Train Layer: 0, Epoch: 4/5, Iter: 370/600, Loss: 0.0859\n",
            "Train Layer: 0, Epoch: 4/5, Iter: 380/600, Loss: 0.0868\n",
            "Train Layer: 0, Epoch: 4/5, Iter: 390/600, Loss: 0.0822\n",
            "Train Layer: 0, Epoch: 4/5, Iter: 400/600, Loss: 0.0821\n",
            "Train Layer: 0, Epoch: 4/5, Iter: 410/600, Loss: 0.0853\n",
            "Train Layer: 0, Epoch: 4/5, Iter: 420/600, Loss: 0.0819\n",
            "Train Layer: 0, Epoch: 4/5, Iter: 430/600, Loss: 0.0858\n",
            "Train Layer: 0, Epoch: 4/5, Iter: 440/600, Loss: 0.0825\n",
            "Train Layer: 0, Epoch: 4/5, Iter: 450/600, Loss: 0.0807\n",
            "Train Layer: 0, Epoch: 4/5, Iter: 460/600, Loss: 0.0874\n",
            "Train Layer: 0, Epoch: 4/5, Iter: 470/600, Loss: 0.0847\n",
            "Train Layer: 0, Epoch: 4/5, Iter: 480/600, Loss: 0.0851\n",
            "Train Layer: 0, Epoch: 4/5, Iter: 490/600, Loss: 0.0810\n",
            "Train Layer: 0, Epoch: 4/5, Iter: 500/600, Loss: 0.0814\n",
            "Train Layer: 0, Epoch: 4/5, Iter: 510/600, Loss: 0.0834\n",
            "Train Layer: 0, Epoch: 4/5, Iter: 520/600, Loss: 0.0800\n",
            "Train Layer: 0, Epoch: 4/5, Iter: 530/600, Loss: 0.0827\n",
            "Train Layer: 0, Epoch: 4/5, Iter: 540/600, Loss: 0.0853\n",
            "Train Layer: 0, Epoch: 4/5, Iter: 550/600, Loss: 0.0843\n",
            "Train Layer: 0, Epoch: 4/5, Iter: 560/600, Loss: 0.0848\n",
            "Train Layer: 0, Epoch: 4/5, Iter: 570/600, Loss: 0.0824\n",
            "Train Layer: 0, Epoch: 4/5, Iter: 580/600, Loss: 0.0860\n",
            "Train Layer: 0, Epoch: 4/5, Iter: 590/600, Loss: 0.0797\n",
            "Train Layer: 0, Epoch: 4/5, Iter: 600/600, Loss: 0.0855\n",
            "Train Layer: 0, Epoch: 5/5, Iter: 10/600, Loss: 0.0798\n",
            "Train Layer: 0, Epoch: 5/5, Iter: 20/600, Loss: 0.0832\n",
            "Train Layer: 0, Epoch: 5/5, Iter: 30/600, Loss: 0.0810\n",
            "Train Layer: 0, Epoch: 5/5, Iter: 40/600, Loss: 0.0819\n",
            "Train Layer: 0, Epoch: 5/5, Iter: 50/600, Loss: 0.0802\n",
            "Train Layer: 0, Epoch: 5/5, Iter: 60/600, Loss: 0.0820\n",
            "Train Layer: 0, Epoch: 5/5, Iter: 70/600, Loss: 0.0855\n",
            "Train Layer: 0, Epoch: 5/5, Iter: 80/600, Loss: 0.0825\n",
            "Train Layer: 0, Epoch: 5/5, Iter: 90/600, Loss: 0.0842\n",
            "Train Layer: 0, Epoch: 5/5, Iter: 100/600, Loss: 0.0807\n",
            "Train Layer: 0, Epoch: 5/5, Iter: 110/600, Loss: 0.0815\n",
            "Train Layer: 0, Epoch: 5/5, Iter: 120/600, Loss: 0.0794\n",
            "Train Layer: 0, Epoch: 5/5, Iter: 130/600, Loss: 0.0816\n",
            "Train Layer: 0, Epoch: 5/5, Iter: 140/600, Loss: 0.0801\n",
            "Train Layer: 0, Epoch: 5/5, Iter: 150/600, Loss: 0.0814\n",
            "Train Layer: 0, Epoch: 5/5, Iter: 160/600, Loss: 0.0800\n",
            "Train Layer: 0, Epoch: 5/5, Iter: 170/600, Loss: 0.0815\n",
            "Train Layer: 0, Epoch: 5/5, Iter: 180/600, Loss: 0.0808\n",
            "Train Layer: 0, Epoch: 5/5, Iter: 190/600, Loss: 0.0794\n",
            "Train Layer: 0, Epoch: 5/5, Iter: 200/600, Loss: 0.0804\n",
            "Train Layer: 0, Epoch: 5/5, Iter: 210/600, Loss: 0.0837\n",
            "Train Layer: 0, Epoch: 5/5, Iter: 220/600, Loss: 0.0831\n",
            "Train Layer: 0, Epoch: 5/5, Iter: 230/600, Loss: 0.0800\n",
            "Train Layer: 0, Epoch: 5/5, Iter: 240/600, Loss: 0.0791\n",
            "Train Layer: 0, Epoch: 5/5, Iter: 250/600, Loss: 0.0802\n",
            "Train Layer: 0, Epoch: 5/5, Iter: 260/600, Loss: 0.0780\n",
            "Train Layer: 0, Epoch: 5/5, Iter: 270/600, Loss: 0.0787\n",
            "Train Layer: 0, Epoch: 5/5, Iter: 280/600, Loss: 0.0793\n",
            "Train Layer: 0, Epoch: 5/5, Iter: 290/600, Loss: 0.0826\n",
            "Train Layer: 0, Epoch: 5/5, Iter: 300/600, Loss: 0.0760\n",
            "Train Layer: 0, Epoch: 5/5, Iter: 310/600, Loss: 0.0831\n",
            "Train Layer: 0, Epoch: 5/5, Iter: 320/600, Loss: 0.0770\n",
            "Train Layer: 0, Epoch: 5/5, Iter: 330/600, Loss: 0.0776\n",
            "Train Layer: 0, Epoch: 5/5, Iter: 340/600, Loss: 0.0784\n",
            "Train Layer: 0, Epoch: 5/5, Iter: 350/600, Loss: 0.0789\n",
            "Train Layer: 0, Epoch: 5/5, Iter: 360/600, Loss: 0.0800\n",
            "Train Layer: 0, Epoch: 5/5, Iter: 370/600, Loss: 0.0806\n",
            "Train Layer: 0, Epoch: 5/5, Iter: 380/600, Loss: 0.0814\n",
            "Train Layer: 0, Epoch: 5/5, Iter: 390/600, Loss: 0.0785\n",
            "Train Layer: 0, Epoch: 5/5, Iter: 400/600, Loss: 0.0802\n",
            "Train Layer: 0, Epoch: 5/5, Iter: 410/600, Loss: 0.0790\n",
            "Train Layer: 0, Epoch: 5/5, Iter: 420/600, Loss: 0.0787\n",
            "Train Layer: 0, Epoch: 5/5, Iter: 430/600, Loss: 0.0800\n",
            "Train Layer: 0, Epoch: 5/5, Iter: 440/600, Loss: 0.0803\n",
            "Train Layer: 0, Epoch: 5/5, Iter: 450/600, Loss: 0.0780\n",
            "Train Layer: 0, Epoch: 5/5, Iter: 460/600, Loss: 0.0773\n",
            "Train Layer: 0, Epoch: 5/5, Iter: 470/600, Loss: 0.0770\n",
            "Train Layer: 0, Epoch: 5/5, Iter: 480/600, Loss: 0.0762\n",
            "Train Layer: 0, Epoch: 5/5, Iter: 490/600, Loss: 0.0807\n",
            "Train Layer: 0, Epoch: 5/5, Iter: 500/600, Loss: 0.0790\n",
            "Train Layer: 0, Epoch: 5/5, Iter: 510/600, Loss: 0.0788\n",
            "Train Layer: 0, Epoch: 5/5, Iter: 520/600, Loss: 0.0797\n",
            "Train Layer: 0, Epoch: 5/5, Iter: 530/600, Loss: 0.0788\n",
            "Train Layer: 0, Epoch: 5/5, Iter: 540/600, Loss: 0.0782\n",
            "Train Layer: 0, Epoch: 5/5, Iter: 550/600, Loss: 0.0807\n",
            "Train Layer: 0, Epoch: 5/5, Iter: 560/600, Loss: 0.0775\n",
            "Train Layer: 0, Epoch: 5/5, Iter: 570/600, Loss: 0.0802\n",
            "Train Layer: 0, Epoch: 5/5, Iter: 580/600, Loss: 0.0732\n",
            "Train Layer: 0, Epoch: 5/5, Iter: 590/600, Loss: 0.0763\n",
            "Train Layer: 0, Epoch: 5/5, Iter: 600/600, Loss: 0.0778\n",
            "Train Layer: 1, Epoch: 1/5, Iter: 10/600, Loss: 0.6748\n",
            "Train Layer: 1, Epoch: 1/5, Iter: 20/600, Loss: 0.6593\n",
            "Train Layer: 1, Epoch: 1/5, Iter: 30/600, Loss: 0.6490\n",
            "Train Layer: 1, Epoch: 1/5, Iter: 40/600, Loss: 0.6417\n",
            "Train Layer: 1, Epoch: 1/5, Iter: 50/600, Loss: 0.6360\n",
            "Train Layer: 1, Epoch: 1/5, Iter: 60/600, Loss: 0.6339\n",
            "Train Layer: 1, Epoch: 1/5, Iter: 70/600, Loss: 0.6325\n",
            "Train Layer: 1, Epoch: 1/5, Iter: 80/600, Loss: 0.6304\n",
            "Train Layer: 1, Epoch: 1/5, Iter: 90/600, Loss: 0.6297\n",
            "Train Layer: 1, Epoch: 1/5, Iter: 100/600, Loss: 0.6275\n",
            "Train Layer: 1, Epoch: 1/5, Iter: 110/600, Loss: 0.6267\n",
            "Train Layer: 1, Epoch: 1/5, Iter: 120/600, Loss: 0.6257\n",
            "Train Layer: 1, Epoch: 1/5, Iter: 130/600, Loss: 0.6220\n",
            "Train Layer: 1, Epoch: 1/5, Iter: 140/600, Loss: 0.6207\n",
            "Train Layer: 1, Epoch: 1/5, Iter: 150/600, Loss: 0.6178\n",
            "Train Layer: 1, Epoch: 1/5, Iter: 160/600, Loss: 0.6170\n",
            "Train Layer: 1, Epoch: 1/5, Iter: 170/600, Loss: 0.6132\n",
            "Train Layer: 1, Epoch: 1/5, Iter: 180/600, Loss: 0.6110\n",
            "Train Layer: 1, Epoch: 1/5, Iter: 190/600, Loss: 0.6056\n",
            "Train Layer: 1, Epoch: 1/5, Iter: 200/600, Loss: 0.6036\n",
            "Train Layer: 1, Epoch: 1/5, Iter: 210/600, Loss: 0.5993\n",
            "Train Layer: 1, Epoch: 1/5, Iter: 220/600, Loss: 0.6002\n",
            "Train Layer: 1, Epoch: 1/5, Iter: 230/600, Loss: 0.5982\n",
            "Train Layer: 1, Epoch: 1/5, Iter: 240/600, Loss: 0.5940\n",
            "Train Layer: 1, Epoch: 1/5, Iter: 250/600, Loss: 0.5926\n",
            "Train Layer: 1, Epoch: 1/5, Iter: 260/600, Loss: 0.5872\n",
            "Train Layer: 1, Epoch: 1/5, Iter: 270/600, Loss: 0.5835\n",
            "Train Layer: 1, Epoch: 1/5, Iter: 280/600, Loss: 0.5835\n",
            "Train Layer: 1, Epoch: 1/5, Iter: 290/600, Loss: 0.5775\n",
            "Train Layer: 1, Epoch: 1/5, Iter: 300/600, Loss: 0.5790\n",
            "Train Layer: 1, Epoch: 1/5, Iter: 310/600, Loss: 0.5724\n",
            "Train Layer: 1, Epoch: 1/5, Iter: 320/600, Loss: 0.5754\n",
            "Train Layer: 1, Epoch: 1/5, Iter: 330/600, Loss: 0.5702\n",
            "Train Layer: 1, Epoch: 1/5, Iter: 340/600, Loss: 0.5703\n",
            "Train Layer: 1, Epoch: 1/5, Iter: 350/600, Loss: 0.5712\n",
            "Train Layer: 1, Epoch: 1/5, Iter: 360/600, Loss: 0.5676\n",
            "Train Layer: 1, Epoch: 1/5, Iter: 370/600, Loss: 0.5629\n",
            "Train Layer: 1, Epoch: 1/5, Iter: 380/600, Loss: 0.5595\n",
            "Train Layer: 1, Epoch: 1/5, Iter: 390/600, Loss: 0.5565\n",
            "Train Layer: 1, Epoch: 1/5, Iter: 400/600, Loss: 0.5598\n",
            "Train Layer: 1, Epoch: 1/5, Iter: 410/600, Loss: 0.5573\n",
            "Train Layer: 1, Epoch: 1/5, Iter: 420/600, Loss: 0.5537\n",
            "Train Layer: 1, Epoch: 1/5, Iter: 430/600, Loss: 0.5533\n",
            "Train Layer: 1, Epoch: 1/5, Iter: 440/600, Loss: 0.5523\n",
            "Train Layer: 1, Epoch: 1/5, Iter: 450/600, Loss: 0.5506\n",
            "Train Layer: 1, Epoch: 1/5, Iter: 460/600, Loss: 0.5480\n",
            "Train Layer: 1, Epoch: 1/5, Iter: 470/600, Loss: 0.5462\n",
            "Train Layer: 1, Epoch: 1/5, Iter: 480/600, Loss: 0.5425\n",
            "Train Layer: 1, Epoch: 1/5, Iter: 490/600, Loss: 0.5447\n",
            "Train Layer: 1, Epoch: 1/5, Iter: 500/600, Loss: 0.5404\n",
            "Train Layer: 1, Epoch: 1/5, Iter: 510/600, Loss: 0.5363\n",
            "Train Layer: 1, Epoch: 1/5, Iter: 520/600, Loss: 0.5377\n",
            "Train Layer: 1, Epoch: 1/5, Iter: 530/600, Loss: 0.5374\n",
            "Train Layer: 1, Epoch: 1/5, Iter: 540/600, Loss: 0.5320\n",
            "Train Layer: 1, Epoch: 1/5, Iter: 550/600, Loss: 0.5283\n",
            "Train Layer: 1, Epoch: 1/5, Iter: 560/600, Loss: 0.5284\n",
            "Train Layer: 1, Epoch: 1/5, Iter: 570/600, Loss: 0.5302\n",
            "Train Layer: 1, Epoch: 1/5, Iter: 580/600, Loss: 0.5238\n",
            "Train Layer: 1, Epoch: 1/5, Iter: 590/600, Loss: 0.5327\n",
            "Train Layer: 1, Epoch: 1/5, Iter: 600/600, Loss: 0.5262\n"
          ]
        },
        {
          "ename": "RuntimeError",
          "evalue": "ignored",
          "output_type": "error",
          "traceback": [
            "\u001b[0;31m---------------------------------------------------------------------------\u001b[0m",
            "\u001b[0;31mRuntimeError\u001b[0m                              Traceback (most recent call last)",
            "\u001b[0;32m<ipython-input-38-e78c5327f465>\u001b[0m in \u001b[0;36m<cell line: 15>\u001b[0;34m()\u001b[0m\n\u001b[1;32m     14\u001b[0m \u001b[0;31m# Pre-train each layer\u001b[0m\u001b[0;34m\u001b[0m\u001b[0;34m\u001b[0m\u001b[0m\n\u001b[1;32m     15\u001b[0m \u001b[0;32mfor\u001b[0m \u001b[0mlevel\u001b[0m \u001b[0;32min\u001b[0m \u001b[0mrange\u001b[0m\u001b[0;34m(\u001b[0m\u001b[0mnun_layers\u001b[0m \u001b[0;34m-\u001b[0m \u001b[0;36m1\u001b[0m\u001b[0;34m)\u001b[0m\u001b[0;34m:\u001b[0m\u001b[0;34m\u001b[0m\u001b[0;34m\u001b[0m\u001b[0m\n\u001b[0;32m---> 16\u001b[0;31m     \u001b[0mtrain_layers\u001b[0m\u001b[0;34m(\u001b[0m\u001b[0mlayers_list\u001b[0m\u001b[0;34m=\u001b[0m\u001b[0mlayers_list\u001b[0m\u001b[0;34m,\u001b[0m \u001b[0mlayer\u001b[0m\u001b[0;34m=\u001b[0m\u001b[0mlevel\u001b[0m\u001b[0;34m,\u001b[0m \u001b[0mepoch\u001b[0m\u001b[0;34m=\u001b[0m\u001b[0mnum_tranin_layer_epochs\u001b[0m\u001b[0;34m,\u001b[0m \u001b[0mvalidate\u001b[0m\u001b[0;34m=\u001b[0m\u001b[0;32mTrue\u001b[0m\u001b[0;34m)\u001b[0m\u001b[0;34m\u001b[0m\u001b[0;34m\u001b[0m\u001b[0m\n\u001b[0m\u001b[1;32m     17\u001b[0m \u001b[0;34m\u001b[0m\u001b[0m\n\u001b[1;32m     18\u001b[0m \u001b[0;31m# Training the network as a whole\u001b[0m\u001b[0;34m\u001b[0m\u001b[0;34m\u001b[0m\u001b[0m\n",
            "\u001b[0;32m<ipython-input-35-60e69f749346>\u001b[0m in \u001b[0;36mtrain_layers\u001b[0;34m(layers_list, layer, epoch, validate)\u001b[0m\n\u001b[1;32m     58\u001b[0m             \u001b[0mlayers_list\u001b[0m\u001b[0;34m[\u001b[0m\u001b[0mlayer\u001b[0m\u001b[0;34m]\u001b[0m\u001b[0;34m.\u001b[0m\u001b[0meval\u001b[0m\u001b[0;34m(\u001b[0m\u001b[0;34m)\u001b[0m\u001b[0;34m\u001b[0m\u001b[0;34m\u001b[0m\u001b[0m\n\u001b[1;32m     59\u001b[0m             \u001b[0mtest_data\u001b[0m \u001b[0;34m=\u001b[0m \u001b[0mtest_data\u001b[0m\u001b[0;34m.\u001b[0m\u001b[0mcuda\u001b[0m\u001b[0;34m(\u001b[0m\u001b[0;34m)\u001b[0m \u001b[0;32mif\u001b[0m \u001b[0mtorch\u001b[0m\u001b[0;34m.\u001b[0m\u001b[0mcuda\u001b[0m\u001b[0;34m.\u001b[0m\u001b[0mis_available\u001b[0m\u001b[0;34m(\u001b[0m\u001b[0;34m)\u001b[0m \u001b[0;32melse\u001b[0m \u001b[0mtest_data\u001b[0m\u001b[0;34m\u001b[0m\u001b[0;34m\u001b[0m\u001b[0m\n\u001b[0;32m---> 60\u001b[0;31m             \u001b[0mtest_output\u001b[0m \u001b[0;34m=\u001b[0m \u001b[0mlayers_list\u001b[0m\u001b[0;34m[\u001b[0m\u001b[0mlayer\u001b[0m\u001b[0;34m]\u001b[0m\u001b[0;34m(\u001b[0m\u001b[0mtest_data\u001b[0m\u001b[0;34m.\u001b[0m\u001b[0mview\u001b[0m\u001b[0;34m(\u001b[0m\u001b[0mtest_data\u001b[0m\u001b[0;34m.\u001b[0m\u001b[0msize\u001b[0m\u001b[0;34m(\u001b[0m\u001b[0;36m0\u001b[0m\u001b[0;34m)\u001b[0m\u001b[0;34m,\u001b[0m \u001b[0;34m-\u001b[0m\u001b[0;36m1\u001b[0m\u001b[0;34m)\u001b[0m\u001b[0;34m)\u001b[0m\u001b[0;34m\u001b[0m\u001b[0;34m\u001b[0m\u001b[0m\n\u001b[0m\u001b[1;32m     61\u001b[0m             \u001b[0mtorchvision\u001b[0m\u001b[0;34m.\u001b[0m\u001b[0mutils\u001b[0m\u001b[0;34m.\u001b[0m\u001b[0msave_image\u001b[0m\u001b[0;34m(\u001b[0m\u001b[0mtest_output\u001b[0m\u001b[0;34m.\u001b[0m\u001b[0mview\u001b[0m\u001b[0;34m(\u001b[0m\u001b[0mbatch_size\u001b[0m\u001b[0;34m,\u001b[0m \u001b[0;36m1\u001b[0m\u001b[0;34m,\u001b[0m \u001b[0;36m28\u001b[0m\u001b[0;34m,\u001b[0m \u001b[0;36m28\u001b[0m\u001b[0;34m)\u001b[0m\u001b[0;34m,\u001b[0m \u001b[0;34m'./test_images/pretrain_layer_{}_epoch_{}_output.png'\u001b[0m\u001b[0;34m.\u001b[0m\u001b[0mformat\u001b[0m\u001b[0;34m(\u001b[0m\u001b[0mlayer\u001b[0m\u001b[0;34m,\u001b[0m \u001b[0mepoch_index\u001b[0m\u001b[0;34m)\u001b[0m\u001b[0;34m)\u001b[0m\u001b[0;34m\u001b[0m\u001b[0;34m\u001b[0m\u001b[0m\n\u001b[1;32m     62\u001b[0m \u001b[0;34m\u001b[0m\u001b[0m\n",
            "\u001b[0;32m/usr/local/lib/python3.10/dist-packages/torch/nn/modules/module.py\u001b[0m in \u001b[0;36m_wrapped_call_impl\u001b[0;34m(self, *args, **kwargs)\u001b[0m\n\u001b[1;32m   1516\u001b[0m             \u001b[0;32mreturn\u001b[0m \u001b[0mself\u001b[0m\u001b[0;34m.\u001b[0m\u001b[0m_compiled_call_impl\u001b[0m\u001b[0;34m(\u001b[0m\u001b[0;34m*\u001b[0m\u001b[0margs\u001b[0m\u001b[0;34m,\u001b[0m \u001b[0;34m**\u001b[0m\u001b[0mkwargs\u001b[0m\u001b[0;34m)\u001b[0m  \u001b[0;31m# type: ignore[misc]\u001b[0m\u001b[0;34m\u001b[0m\u001b[0;34m\u001b[0m\u001b[0m\n\u001b[1;32m   1517\u001b[0m         \u001b[0;32melse\u001b[0m\u001b[0;34m:\u001b[0m\u001b[0;34m\u001b[0m\u001b[0;34m\u001b[0m\u001b[0m\n\u001b[0;32m-> 1518\u001b[0;31m             \u001b[0;32mreturn\u001b[0m \u001b[0mself\u001b[0m\u001b[0;34m.\u001b[0m\u001b[0m_call_impl\u001b[0m\u001b[0;34m(\u001b[0m\u001b[0;34m*\u001b[0m\u001b[0margs\u001b[0m\u001b[0;34m,\u001b[0m \u001b[0;34m**\u001b[0m\u001b[0mkwargs\u001b[0m\u001b[0;34m)\u001b[0m\u001b[0;34m\u001b[0m\u001b[0;34m\u001b[0m\u001b[0m\n\u001b[0m\u001b[1;32m   1519\u001b[0m \u001b[0;34m\u001b[0m\u001b[0m\n\u001b[1;32m   1520\u001b[0m     \u001b[0;32mdef\u001b[0m \u001b[0m_call_impl\u001b[0m\u001b[0;34m(\u001b[0m\u001b[0mself\u001b[0m\u001b[0;34m,\u001b[0m \u001b[0;34m*\u001b[0m\u001b[0margs\u001b[0m\u001b[0;34m,\u001b[0m \u001b[0;34m**\u001b[0m\u001b[0mkwargs\u001b[0m\u001b[0;34m)\u001b[0m\u001b[0;34m:\u001b[0m\u001b[0;34m\u001b[0m\u001b[0;34m\u001b[0m\u001b[0m\n",
            "\u001b[0;32m/usr/local/lib/python3.10/dist-packages/torch/nn/modules/module.py\u001b[0m in \u001b[0;36m_call_impl\u001b[0;34m(self, *args, **kwargs)\u001b[0m\n\u001b[1;32m   1525\u001b[0m                 \u001b[0;32mor\u001b[0m \u001b[0m_global_backward_pre_hooks\u001b[0m \u001b[0;32mor\u001b[0m \u001b[0m_global_backward_hooks\u001b[0m\u001b[0;34m\u001b[0m\u001b[0;34m\u001b[0m\u001b[0m\n\u001b[1;32m   1526\u001b[0m                 or _global_forward_hooks or _global_forward_pre_hooks):\n\u001b[0;32m-> 1527\u001b[0;31m             \u001b[0;32mreturn\u001b[0m \u001b[0mforward_call\u001b[0m\u001b[0;34m(\u001b[0m\u001b[0;34m*\u001b[0m\u001b[0margs\u001b[0m\u001b[0;34m,\u001b[0m \u001b[0;34m**\u001b[0m\u001b[0mkwargs\u001b[0m\u001b[0;34m)\u001b[0m\u001b[0;34m\u001b[0m\u001b[0;34m\u001b[0m\u001b[0m\n\u001b[0m\u001b[1;32m   1528\u001b[0m \u001b[0;34m\u001b[0m\u001b[0m\n\u001b[1;32m   1529\u001b[0m         \u001b[0;32mtry\u001b[0m\u001b[0;34m:\u001b[0m\u001b[0;34m\u001b[0m\u001b[0;34m\u001b[0m\u001b[0m\n",
            "\u001b[0;32m<ipython-input-34-1f5e5f49a031>\u001b[0m in \u001b[0;36mforward\u001b[0;34m(self, x)\u001b[0m\n\u001b[1;32m     23\u001b[0m \u001b[0;34m\u001b[0m\u001b[0m\n\u001b[1;32m     24\u001b[0m     \u001b[0;32mdef\u001b[0m \u001b[0mforward\u001b[0m\u001b[0;34m(\u001b[0m\u001b[0mself\u001b[0m\u001b[0;34m,\u001b[0m \u001b[0mx\u001b[0m\u001b[0;34m)\u001b[0m\u001b[0;34m:\u001b[0m\u001b[0;34m\u001b[0m\u001b[0;34m\u001b[0m\u001b[0m\n\u001b[0;32m---> 25\u001b[0;31m         \u001b[0mout\u001b[0m \u001b[0;34m=\u001b[0m \u001b[0mself\u001b[0m\u001b[0;34m.\u001b[0m\u001b[0mencoder\u001b[0m\u001b[0;34m(\u001b[0m\u001b[0mx\u001b[0m\u001b[0;34m)\u001b[0m\u001b[0;34m\u001b[0m\u001b[0;34m\u001b[0m\u001b[0m\n\u001b[0m\u001b[1;32m     26\u001b[0m         \u001b[0;32mif\u001b[0m \u001b[0mself\u001b[0m\u001b[0;34m.\u001b[0m\u001b[0mis_training_self\u001b[0m\u001b[0;34m:\u001b[0m\u001b[0;34m\u001b[0m\u001b[0;34m\u001b[0m\u001b[0m\n\u001b[1;32m     27\u001b[0m             \u001b[0;32mreturn\u001b[0m \u001b[0mself\u001b[0m\u001b[0;34m.\u001b[0m\u001b[0mdecoder\u001b[0m\u001b[0;34m(\u001b[0m\u001b[0mout\u001b[0m\u001b[0;34m)\u001b[0m\u001b[0;34m\u001b[0m\u001b[0;34m\u001b[0m\u001b[0m\n",
            "\u001b[0;32m/usr/local/lib/python3.10/dist-packages/torch/nn/modules/module.py\u001b[0m in \u001b[0;36m_wrapped_call_impl\u001b[0;34m(self, *args, **kwargs)\u001b[0m\n\u001b[1;32m   1516\u001b[0m             \u001b[0;32mreturn\u001b[0m \u001b[0mself\u001b[0m\u001b[0;34m.\u001b[0m\u001b[0m_compiled_call_impl\u001b[0m\u001b[0;34m(\u001b[0m\u001b[0;34m*\u001b[0m\u001b[0margs\u001b[0m\u001b[0;34m,\u001b[0m \u001b[0;34m**\u001b[0m\u001b[0mkwargs\u001b[0m\u001b[0;34m)\u001b[0m  \u001b[0;31m# type: ignore[misc]\u001b[0m\u001b[0;34m\u001b[0m\u001b[0;34m\u001b[0m\u001b[0m\n\u001b[1;32m   1517\u001b[0m         \u001b[0;32melse\u001b[0m\u001b[0;34m:\u001b[0m\u001b[0;34m\u001b[0m\u001b[0;34m\u001b[0m\u001b[0m\n\u001b[0;32m-> 1518\u001b[0;31m             \u001b[0;32mreturn\u001b[0m \u001b[0mself\u001b[0m\u001b[0;34m.\u001b[0m\u001b[0m_call_impl\u001b[0m\u001b[0;34m(\u001b[0m\u001b[0;34m*\u001b[0m\u001b[0margs\u001b[0m\u001b[0;34m,\u001b[0m \u001b[0;34m**\u001b[0m\u001b[0mkwargs\u001b[0m\u001b[0;34m)\u001b[0m\u001b[0;34m\u001b[0m\u001b[0;34m\u001b[0m\u001b[0m\n\u001b[0m\u001b[1;32m   1519\u001b[0m \u001b[0;34m\u001b[0m\u001b[0m\n\u001b[1;32m   1520\u001b[0m     \u001b[0;32mdef\u001b[0m \u001b[0m_call_impl\u001b[0m\u001b[0;34m(\u001b[0m\u001b[0mself\u001b[0m\u001b[0;34m,\u001b[0m \u001b[0;34m*\u001b[0m\u001b[0margs\u001b[0m\u001b[0;34m,\u001b[0m \u001b[0;34m**\u001b[0m\u001b[0mkwargs\u001b[0m\u001b[0;34m)\u001b[0m\u001b[0;34m:\u001b[0m\u001b[0;34m\u001b[0m\u001b[0;34m\u001b[0m\u001b[0m\n",
            "\u001b[0;32m/usr/local/lib/python3.10/dist-packages/torch/nn/modules/module.py\u001b[0m in \u001b[0;36m_call_impl\u001b[0;34m(self, *args, **kwargs)\u001b[0m\n\u001b[1;32m   1525\u001b[0m                 \u001b[0;32mor\u001b[0m \u001b[0m_global_backward_pre_hooks\u001b[0m \u001b[0;32mor\u001b[0m \u001b[0m_global_backward_hooks\u001b[0m\u001b[0;34m\u001b[0m\u001b[0;34m\u001b[0m\u001b[0m\n\u001b[1;32m   1526\u001b[0m                 or _global_forward_hooks or _global_forward_pre_hooks):\n\u001b[0;32m-> 1527\u001b[0;31m             \u001b[0;32mreturn\u001b[0m \u001b[0mforward_call\u001b[0m\u001b[0;34m(\u001b[0m\u001b[0;34m*\u001b[0m\u001b[0margs\u001b[0m\u001b[0;34m,\u001b[0m \u001b[0;34m**\u001b[0m\u001b[0mkwargs\u001b[0m\u001b[0;34m)\u001b[0m\u001b[0;34m\u001b[0m\u001b[0;34m\u001b[0m\u001b[0m\n\u001b[0m\u001b[1;32m   1528\u001b[0m \u001b[0;34m\u001b[0m\u001b[0m\n\u001b[1;32m   1529\u001b[0m         \u001b[0;32mtry\u001b[0m\u001b[0;34m:\u001b[0m\u001b[0;34m\u001b[0m\u001b[0;34m\u001b[0m\u001b[0m\n",
            "\u001b[0;32m/usr/local/lib/python3.10/dist-packages/torch/nn/modules/container.py\u001b[0m in \u001b[0;36mforward\u001b[0;34m(self, input)\u001b[0m\n\u001b[1;32m    213\u001b[0m     \u001b[0;32mdef\u001b[0m \u001b[0mforward\u001b[0m\u001b[0;34m(\u001b[0m\u001b[0mself\u001b[0m\u001b[0;34m,\u001b[0m \u001b[0minput\u001b[0m\u001b[0;34m)\u001b[0m\u001b[0;34m:\u001b[0m\u001b[0;34m\u001b[0m\u001b[0;34m\u001b[0m\u001b[0m\n\u001b[1;32m    214\u001b[0m         \u001b[0;32mfor\u001b[0m \u001b[0mmodule\u001b[0m \u001b[0;32min\u001b[0m \u001b[0mself\u001b[0m\u001b[0;34m:\u001b[0m\u001b[0;34m\u001b[0m\u001b[0;34m\u001b[0m\u001b[0m\n\u001b[0;32m--> 215\u001b[0;31m             \u001b[0minput\u001b[0m \u001b[0;34m=\u001b[0m \u001b[0mmodule\u001b[0m\u001b[0;34m(\u001b[0m\u001b[0minput\u001b[0m\u001b[0;34m)\u001b[0m\u001b[0;34m\u001b[0m\u001b[0;34m\u001b[0m\u001b[0m\n\u001b[0m\u001b[1;32m    216\u001b[0m         \u001b[0;32mreturn\u001b[0m \u001b[0minput\u001b[0m\u001b[0;34m\u001b[0m\u001b[0;34m\u001b[0m\u001b[0m\n\u001b[1;32m    217\u001b[0m \u001b[0;34m\u001b[0m\u001b[0m\n",
            "\u001b[0;32m/usr/local/lib/python3.10/dist-packages/torch/nn/modules/module.py\u001b[0m in \u001b[0;36m_wrapped_call_impl\u001b[0;34m(self, *args, **kwargs)\u001b[0m\n\u001b[1;32m   1516\u001b[0m             \u001b[0;32mreturn\u001b[0m \u001b[0mself\u001b[0m\u001b[0;34m.\u001b[0m\u001b[0m_compiled_call_impl\u001b[0m\u001b[0;34m(\u001b[0m\u001b[0;34m*\u001b[0m\u001b[0margs\u001b[0m\u001b[0;34m,\u001b[0m \u001b[0;34m**\u001b[0m\u001b[0mkwargs\u001b[0m\u001b[0;34m)\u001b[0m  \u001b[0;31m# type: ignore[misc]\u001b[0m\u001b[0;34m\u001b[0m\u001b[0;34m\u001b[0m\u001b[0m\n\u001b[1;32m   1517\u001b[0m         \u001b[0;32melse\u001b[0m\u001b[0;34m:\u001b[0m\u001b[0;34m\u001b[0m\u001b[0;34m\u001b[0m\u001b[0m\n\u001b[0;32m-> 1518\u001b[0;31m             \u001b[0;32mreturn\u001b[0m \u001b[0mself\u001b[0m\u001b[0;34m.\u001b[0m\u001b[0m_call_impl\u001b[0m\u001b[0;34m(\u001b[0m\u001b[0;34m*\u001b[0m\u001b[0margs\u001b[0m\u001b[0;34m,\u001b[0m \u001b[0;34m**\u001b[0m\u001b[0mkwargs\u001b[0m\u001b[0;34m)\u001b[0m\u001b[0;34m\u001b[0m\u001b[0;34m\u001b[0m\u001b[0m\n\u001b[0m\u001b[1;32m   1519\u001b[0m \u001b[0;34m\u001b[0m\u001b[0m\n\u001b[1;32m   1520\u001b[0m     \u001b[0;32mdef\u001b[0m \u001b[0m_call_impl\u001b[0m\u001b[0;34m(\u001b[0m\u001b[0mself\u001b[0m\u001b[0;34m,\u001b[0m \u001b[0;34m*\u001b[0m\u001b[0margs\u001b[0m\u001b[0;34m,\u001b[0m \u001b[0;34m**\u001b[0m\u001b[0mkwargs\u001b[0m\u001b[0;34m)\u001b[0m\u001b[0;34m:\u001b[0m\u001b[0;34m\u001b[0m\u001b[0;34m\u001b[0m\u001b[0m\n",
            "\u001b[0;32m/usr/local/lib/python3.10/dist-packages/torch/nn/modules/module.py\u001b[0m in \u001b[0;36m_call_impl\u001b[0;34m(self, *args, **kwargs)\u001b[0m\n\u001b[1;32m   1525\u001b[0m                 \u001b[0;32mor\u001b[0m \u001b[0m_global_backward_pre_hooks\u001b[0m \u001b[0;32mor\u001b[0m \u001b[0m_global_backward_hooks\u001b[0m\u001b[0;34m\u001b[0m\u001b[0;34m\u001b[0m\u001b[0m\n\u001b[1;32m   1526\u001b[0m                 or _global_forward_hooks or _global_forward_pre_hooks):\n\u001b[0;32m-> 1527\u001b[0;31m             \u001b[0;32mreturn\u001b[0m \u001b[0mforward_call\u001b[0m\u001b[0;34m(\u001b[0m\u001b[0;34m*\u001b[0m\u001b[0margs\u001b[0m\u001b[0;34m,\u001b[0m \u001b[0;34m**\u001b[0m\u001b[0mkwargs\u001b[0m\u001b[0;34m)\u001b[0m\u001b[0;34m\u001b[0m\u001b[0;34m\u001b[0m\u001b[0m\n\u001b[0m\u001b[1;32m   1528\u001b[0m \u001b[0;34m\u001b[0m\u001b[0m\n\u001b[1;32m   1529\u001b[0m         \u001b[0;32mtry\u001b[0m\u001b[0;34m:\u001b[0m\u001b[0;34m\u001b[0m\u001b[0;34m\u001b[0m\u001b[0m\n",
            "\u001b[0;32m/usr/local/lib/python3.10/dist-packages/torch/nn/modules/linear.py\u001b[0m in \u001b[0;36mforward\u001b[0;34m(self, input)\u001b[0m\n\u001b[1;32m    112\u001b[0m \u001b[0;34m\u001b[0m\u001b[0m\n\u001b[1;32m    113\u001b[0m     \u001b[0;32mdef\u001b[0m \u001b[0mforward\u001b[0m\u001b[0;34m(\u001b[0m\u001b[0mself\u001b[0m\u001b[0;34m,\u001b[0m \u001b[0minput\u001b[0m\u001b[0;34m:\u001b[0m \u001b[0mTensor\u001b[0m\u001b[0;34m)\u001b[0m \u001b[0;34m->\u001b[0m \u001b[0mTensor\u001b[0m\u001b[0;34m:\u001b[0m\u001b[0;34m\u001b[0m\u001b[0;34m\u001b[0m\u001b[0m\n\u001b[0;32m--> 114\u001b[0;31m         \u001b[0;32mreturn\u001b[0m \u001b[0mF\u001b[0m\u001b[0;34m.\u001b[0m\u001b[0mlinear\u001b[0m\u001b[0;34m(\u001b[0m\u001b[0minput\u001b[0m\u001b[0;34m,\u001b[0m \u001b[0mself\u001b[0m\u001b[0;34m.\u001b[0m\u001b[0mweight\u001b[0m\u001b[0;34m,\u001b[0m \u001b[0mself\u001b[0m\u001b[0;34m.\u001b[0m\u001b[0mbias\u001b[0m\u001b[0;34m)\u001b[0m\u001b[0;34m\u001b[0m\u001b[0;34m\u001b[0m\u001b[0m\n\u001b[0m\u001b[1;32m    115\u001b[0m \u001b[0;34m\u001b[0m\u001b[0m\n\u001b[1;32m    116\u001b[0m     \u001b[0;32mdef\u001b[0m \u001b[0mextra_repr\u001b[0m\u001b[0;34m(\u001b[0m\u001b[0mself\u001b[0m\u001b[0;34m)\u001b[0m \u001b[0;34m->\u001b[0m \u001b[0mstr\u001b[0m\u001b[0;34m:\u001b[0m\u001b[0;34m\u001b[0m\u001b[0;34m\u001b[0m\u001b[0m\n",
            "\u001b[0;31mRuntimeError\u001b[0m: mat1 and mat2 shapes cannot be multiplied (100x784 and 256x64)"
          ]
        }
      ],
      "source": [
        "import os\n",
        "if not os.path.exists('test_images'):\n",
        "    os.mkdir('test_images')\n",
        "if not os.path.exists('models'):\n",
        "    os.mkdir('models')\n",
        "\n",
        "nun_layers = 5\n",
        "encoder_1 = AutoEncoderLayer(784, 256, SelfTraining=True)\n",
        "encoder_2 = AutoEncoderLayer(256, 64, SelfTraining=True)\n",
        "decoder_3 = AutoEncoderLayer(64, 256, SelfTraining=True)\n",
        "decoder_4 = AutoEncoderLayer(256, 784, SelfTraining=True)\n",
        "layers_list = [encoder_1, encoder_2, decoder_3, decoder_4]\n",
        "\n",
        "# Pre-train each layer\n",
        "for level in range(nun_layers - 1):\n",
        "    train_layers(layers_list=layers_list, layer=level, epoch=num_tranin_layer_epochs, validate=True)\n",
        "\n",
        "# Training the network as a whole\n",
        "SAE_model = StackedAutoEncoder(layers_list=layers_list)\n",
        "train_whole(model=SAE_model, epoch=num_tranin_whole_epochs, validate=True)\n",
        "\n",
        "# Save the model (refer: https://pytorch.org/docs/master/notes/serialization.html)\n",
        "torch.save(SAE_model, './models/sae_model.pt')"
      ]
    },
    {
      "cell_type": "code",
      "execution_count": null,
      "metadata": {
        "id": "7JeBE2_M6G5j"
      },
      "outputs": [],
      "source": [
        "# You can later check the saved test images here\n",
        "!cd /root/test_images\n",
        "!ls"
      ]
    }
  ],
  "metadata": {
    "accelerator": "GPU",
    "colab": {
      "gpuType": "T4",
      "provenance": []
    },
    "kernelspec": {
      "display_name": "Python 3",
      "name": "python3"
    },
    "language_info": {
      "name": "python"
    }
  },
  "nbformat": 4,
  "nbformat_minor": 0
}
