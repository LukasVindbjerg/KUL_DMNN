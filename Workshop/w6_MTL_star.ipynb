{
  "nbformat": 4,
  "nbformat_minor": 0,
  "metadata": {
    "colab": {
      "provenance": []
    },
    "kernelspec": {
      "name": "python3",
      "display_name": "Python 3"
    },
    "language_info": {
      "name": "python"
    },
    "accelerator": "GPU"
  },
  "cells": [
    {
      "cell_type": "code",
      "metadata": {
        "id": "_ZOM0MBSTmVL"
      },
      "source": [
        "\n",
        "#%% import stuff:\n",
        "\n",
        "import matplotlib.pyplot as plt\n",
        "import numpy as np\n",
        "import pickle\n",
        "\n",
        "import torch\n",
        "import torch.nn as nn"
      ],
      "execution_count": null,
      "outputs": []
    },
    {
      "cell_type": "code",
      "metadata": {
        "colab": {
          "base_uri": "https://localhost:8080/"
        },
        "id": "w39eu-buTV55",
        "outputId": "0967605a-3e19-454f-ef69-a0138a93aa7b"
      },
      "source": [
        "from google.colab import drive\n",
        "drive.mount('/content/drive')\n",
        "\n",
        "\n",
        "temp=pickle.load(open('/content/drive/MyDrive/starData.p','rb'))\n",
        "X=temp['X']\n",
        "y=temp['y']\n"
      ],
      "execution_count": null,
      "outputs": [
        {
          "output_type": "stream",
          "name": "stdout",
          "text": [
            "Mounted at /content/drive\n"
          ]
        }
      ]
    },
    {
      "cell_type": "code",
      "metadata": {
        "colab": {
          "base_uri": "https://localhost:8080/",
          "height": 285
        },
        "id": "mu0NWnqR9C-p",
        "outputId": "4b2d901b-48ab-4436-e884-1a0b865b8ac6"
      },
      "source": [
        "idx=125\n",
        "plt.imshow(np.squeeze(X[125,:,:,:],axis=0))\n",
        "print(y[idx,:])"
      ],
      "execution_count": null,
      "outputs": [
        {
          "output_type": "stream",
          "name": "stdout",
          "text": [
            "tensor([6.0000, 2.5596])\n"
          ]
        },
        {
          "output_type": "display_data",
          "data": {
            "image/png": "[encoded data removed]",
            "text/plain": [
              "<Figure size 432x288 with 1 Axes>"
            ]
          },
          "metadata": {
            "needs_background": "light"
          }
        }
      ]
    },
    {
      "cell_type": "code",
      "metadata": {
        "id": "14iffVhhTkWY",
        "colab": {
          "base_uri": "https://localhost:8080/"
        },
        "outputId": "c8b75246-8c61-41c0-a1b5-94b18791f55a"
      },
      "source": [
        "#%% make datasets & loaders\n",
        "\n",
        "#split in val and train:\n",
        "nData=X.shape[0]\n",
        "nVal=300\n",
        "valIdx=range(nVal)\n",
        "trainIdx=range(nVal+1,nData)\n",
        "\n",
        "#datasets:\n",
        "trainDataset=torch.utils.data.TensorDataset(X[trainIdx,:,:,:],y[trainIdx,:])\n",
        "valDataset=torch.utils.data.TensorDataset(X[valIdx,:,:,:],y[valIdx,:])\n",
        "\n",
        "#dataloaders:\n",
        "trainLoader=torch.utils.data.DataLoader(trainDataset,batch_size=32,shuffle=True)\n",
        "valLoader=torch.utils.data.DataLoader(valDataset,batch_size=32,shuffle=True)\n",
        "\n",
        "\n",
        "#%% make network\n",
        "\n",
        "class simpleCNN(nn.Module):\n",
        "    def __init__(self):\n",
        "        super(simpleCNN, self).__init__()\n",
        "\n",
        "        self.cnn1=nn.Conv2d(in_channels=1,out_channels=1,kernel_size=5,stride=1,padding=2)\n",
        "        self.cnn2=nn.Conv2d(in_channels=1,out_channels=1,kernel_size=5,stride=2,padding=2)\n",
        "\n",
        "        self.fc1=nn.Linear(50*50, 80, bias=True)\n",
        "        self.leakRelu1=nn.LeakyReLU()\n",
        "        self.fc2=nn.Linear(80, 2, bias=True)\n",
        "        self.leakRelu2=nn.LeakyReLU()\n",
        "\n",
        "    def forward(self,x):\n",
        "        x=self.cnn1(x)\n",
        "        x=self.cnn2(x)\n",
        "        x=torch.reshape(x,(-1,50*50))\n",
        "        x=self.fc1(x)\n",
        "        x=self.leakRelu1(x)\n",
        "        x=self.fc2(x)\n",
        "\n",
        "        return x\n",
        "\n",
        "#testing:\n",
        "testData=torch.rand((1,1,100,100))\n",
        "testNet=simpleCNN()\n",
        "testNet.forward(testData)\n",
        "\n"
      ],
      "execution_count": null,
      "outputs": [
        {
          "output_type": "execute_result",
          "data": {
            "text/plain": [
              "tensor([[ 0.0182, -0.0277]], grad_fn=<AddmmBackward>)"
            ]
          },
          "metadata": {},
          "execution_count": 4
        }
      ]
    },
    {
      "cell_type": "code",
      "metadata": {
        "id": "gOCTOuj3FR0X",
        "colab": {
          "base_uri": "https://localhost:8080/",
          "height": 1000
        },
        "outputId": "e17cedbf-2dab-439d-e0d0-9fdcc2da5548"
      },
      "source": [
        "\n",
        "#%% train & validate\n",
        "\n",
        "nEpoch=30\n",
        "\n",
        "net=simpleCNN()\n",
        "optimizer=torch.optim.Adam(net.parameters())\n",
        "\n",
        "#%% define loss'es\n",
        "loss1=nn.SmoothL1Loss(reduction='sum',beta=0.05)\n",
        "loss2=nn.SmoothL1Loss(reduction='sum',beta=0.05)\n",
        "loss_fn = lambda pred,target : 0.5*loss1(pred[:,0],target[:,0].float())+0.5*loss2(pred[:,1],target[:,1])\n",
        "\n",
        "# equivalently, define the loss as a usual function object instead of a lambda function\n",
        "def loss_equivalent(pred, target):\n",
        "  loss = loss1(pred[:,0],target[:,0].float())\n",
        "  loss += loss2(pred[:,1],target[:,1])\n",
        "  return 0.5*loss\n",
        "\n",
        "for iEpoch in range(nEpoch):\n",
        "    print(iEpoch)\n",
        "    totLoss=0\n",
        "    for xbatch,ybatch in trainLoader:\n",
        "\n",
        "        ypred=net(xbatch)\n",
        "        loss = loss_fn(ypred,ybatch)\n",
        "        totLoss+=loss\n",
        "        net.zero_grad()\n",
        "\n",
        "        loss.backward()\n",
        "\n",
        "        optimizer.step()\n",
        "\n",
        "    print(totLoss/len(trainLoader))\n",
        "\n",
        "    for xbatch,ybatch in valLoader:\n",
        "\n",
        "        ypred=net(xbatch)\n",
        "        loss = loss_fn(ypred,ybatch)\n",
        "        totLoss+=loss\n",
        "\n",
        "    print(totLoss/len(trainLoader))\n",
        "\n",
        "\n",
        "trainy=np.zeros((0,2))\n",
        "trainRes=np.zeros((0,2))\n",
        "\n",
        "for xbatch,ybatch in trainLoader:\n",
        "\n",
        "        ypred=net(xbatch)\n",
        "        trainRes=np.concatenate((trainRes,ypred.detach().numpy()),axis=0)\n",
        "        trainy=np.concatenate((trainy,ybatch.detach().numpy()),axis=0)\n",
        "\n",
        "valy=np.zeros((0,2))\n",
        "valRes=np.zeros((0,2))\n",
        "\n",
        "for xbatch,ybatch in valLoader:\n",
        "\n",
        "        ypred=net(xbatch)\n",
        "        valRes=np.concatenate((valRes,ypred.detach().numpy()),axis=0)\n",
        "        valy=np.concatenate((valy,ybatch.detach().numpy()),axis=0)\n",
        "\n",
        "\n",
        "plt.close('all')\n",
        "plt.plot(trainy,trainRes,'*')\n",
        "\n",
        "plt.figure()\n",
        "plt.plot(valy,valRes,'*')\n"
      ],
      "execution_count": null,
      "outputs": [
        {
          "output_type": "stream",
          "name": "stdout",
          "text": [
            "0\n",
            "tensor(102.7954, grad_fn=<DivBackward0>)\n",
            "tensor(109.9903, grad_fn=<DivBackward0>)\n",
            "1\n",
            "tensor(31.6941, grad_fn=<DivBackward0>)\n",
            "tensor(36.5077, grad_fn=<DivBackward0>)\n",
            "2\n",
            "tensor(25.1733, grad_fn=<DivBackward0>)\n",
            "tensor(29.4698, grad_fn=<DivBackward0>)\n",
            "3\n",
            "tensor(21.1627, grad_fn=<DivBackward0>)\n",
            "tensor(25.7931, grad_fn=<DivBackward0>)\n",
            "4\n",
            "tensor(17.8398, grad_fn=<DivBackward0>)\n",
            "tensor(21.5467, grad_fn=<DivBackward0>)\n",
            "5\n",
            "tensor(15.0624, grad_fn=<DivBackward0>)\n",
            "tensor(18.4827, grad_fn=<DivBackward0>)\n",
            "6\n",
            "tensor(13.2852, grad_fn=<DivBackward0>)\n",
            "tensor(15.9582, grad_fn=<DivBackward0>)\n",
            "7\n",
            "tensor(13.2471, grad_fn=<DivBackward0>)\n",
            "tensor(15.7788, grad_fn=<DivBackward0>)\n",
            "8\n",
            "tensor(11.2493, grad_fn=<DivBackward0>)\n",
            "tensor(13.3945, grad_fn=<DivBackward0>)\n",
            "9\n",
            "tensor(8.8297, grad_fn=<DivBackward0>)\n",
            "tensor(10.8858, grad_fn=<DivBackward0>)\n",
            "10\n",
            "tensor(8.5920, grad_fn=<DivBackward0>)\n",
            "tensor(10.6543, grad_fn=<DivBackward0>)\n",
            "11\n",
            "tensor(7.3080, grad_fn=<DivBackward0>)\n",
            "tensor(9.3701, grad_fn=<DivBackward0>)\n",
            "12\n",
            "tensor(7.0457, grad_fn=<DivBackward0>)\n",
            "tensor(8.9826, grad_fn=<DivBackward0>)\n",
            "13\n",
            "tensor(6.6653, grad_fn=<DivBackward0>)\n",
            "tensor(8.3283, grad_fn=<DivBackward0>)\n",
            "14\n",
            "tensor(6.5521, grad_fn=<DivBackward0>)\n",
            "tensor(8.3620, grad_fn=<DivBackward0>)\n",
            "15\n",
            "tensor(6.6169, grad_fn=<DivBackward0>)\n",
            "tensor(8.4151, grad_fn=<DivBackward0>)\n",
            "16\n",
            "tensor(6.1883, grad_fn=<DivBackward0>)\n",
            "tensor(7.7290, grad_fn=<DivBackward0>)\n",
            "17\n",
            "tensor(5.4482, grad_fn=<DivBackward0>)\n",
            "tensor(6.9281, grad_fn=<DivBackward0>)\n",
            "18\n",
            "tensor(5.3267, grad_fn=<DivBackward0>)\n",
            "tensor(7.0379, grad_fn=<DivBackward0>)\n",
            "19\n",
            "tensor(5.1189, grad_fn=<DivBackward0>)\n",
            "tensor(6.7201, grad_fn=<DivBackward0>)\n",
            "20\n",
            "tensor(5.3489, grad_fn=<DivBackward0>)\n",
            "tensor(6.9267, grad_fn=<DivBackward0>)\n",
            "21\n",
            "tensor(5.3397, grad_fn=<DivBackward0>)\n",
            "tensor(6.8708, grad_fn=<DivBackward0>)\n",
            "22\n",
            "tensor(5.0543, grad_fn=<DivBackward0>)\n",
            "tensor(6.4949, grad_fn=<DivBackward0>)\n",
            "23\n",
            "tensor(4.9720, grad_fn=<DivBackward0>)\n",
            "tensor(6.2437, grad_fn=<DivBackward0>)\n",
            "24\n",
            "tensor(4.3588, grad_fn=<DivBackward0>)\n",
            "tensor(5.8241, grad_fn=<DivBackward0>)\n",
            "25\n",
            "tensor(4.7797, grad_fn=<DivBackward0>)\n",
            "tensor(6.2737, grad_fn=<DivBackward0>)\n",
            "26\n",
            "tensor(4.4982, grad_fn=<DivBackward0>)\n",
            "tensor(5.8208, grad_fn=<DivBackward0>)\n",
            "27\n",
            "tensor(4.4690, grad_fn=<DivBackward0>)\n",
            "tensor(5.7651, grad_fn=<DivBackward0>)\n",
            "28\n",
            "tensor(4.3651, grad_fn=<DivBackward0>)\n",
            "tensor(5.9174, grad_fn=<DivBackward0>)\n",
            "29\n",
            "tensor(4.3953, grad_fn=<DivBackward0>)\n",
            "tensor(5.8430, grad_fn=<DivBackward0>)\n"
          ]
        },
        {
          "output_type": "execute_result",
          "data": {
            "text/plain": [
              "[<matplotlib.lines.Line2D at 0x7f8f81f46b10>,\n",
              " <matplotlib.lines.Line2D at 0x7f8f81f8c550>]"
            ]
          },
          "metadata": {},
          "execution_count": 5
        },
        {
          "output_type": "display_data",
          "data": {
            "image/png": "[encoded data removed]",
            "text/plain": [
              "<Figure size 432x288 with 1 Axes>"
            ]
          },
          "metadata": {
            "needs_background": "light"
          }
        },
        {
          "output_type": "display_data",
          "data": {
            "image/png": "[encoded data removed]",
            "text/plain": [
              "<Figure size 432x288 with 1 Axes>"
            ]
          },
          "metadata": {
            "needs_background": "light"
          }
        }
      ]
    }
  ]
}